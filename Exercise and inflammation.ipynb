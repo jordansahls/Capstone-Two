{
 "cells": [
  {
   "cell_type": "code",
   "execution_count": 6,
   "metadata": {},
   "outputs": [],
   "source": [
    "import os\n",
    "import pandas as pd\n",
    "import datetime\n",
    "import seaborn as sns\n",
    "import matplotlib.pyplot as plt\n",
    "import numpy as np\n",
    "%matplotlib inline"
   ]
  },
  {
   "cell_type": "markdown",
   "metadata": {},
   "source": [
    "# Demographic Data (2007-2008)"
   ]
  },
  {
   "cell_type": "markdown",
   "metadata": {},
   "source": [
    "SEQN = Respondent sequence number\n",
    "RIAGENDR = Respondent gender (1= Male , 2= Female)\n",
    "RIDAGEYR = Respondent age in years\n",
    "RIDRETH1 = Race and hispanic origin information (1=Mexican American, 2=Other Hispanic, 3=Non-hispanic white, 4=Non-hispanic black, 5=other race - including multiracial)"
   ]
  },
  {
   "cell_type": "code",
   "execution_count": 7,
   "metadata": {},
   "outputs": [],
   "source": [
    "path_demo = '/Users/hf/Desktop/ICPSR_25505/demographics/25505-0001-Data.tsv'\n",
    "df_demo = pd.read_csv(path_demo, sep='\\t')"
   ]
  },
  {
   "cell_type": "code",
   "execution_count": 8,
   "metadata": {},
   "outputs": [],
   "source": [
    "keep = ['SEQN','RIDAGEYR', 'RIAGENDR', 'RIDRETH1']\n",
    "df_demo = df_demo[keep]"
   ]
  },
  {
   "cell_type": "code",
   "execution_count": 9,
   "metadata": {},
   "outputs": [
    {
     "name": "stdout",
     "output_type": "stream",
     "text": [
      "<class 'pandas.core.frame.DataFrame'>\n",
      "RangeIndex: 10149 entries, 0 to 10148\n",
      "Data columns (total 4 columns):\n",
      " #   Column    Non-Null Count  Dtype\n",
      "---  ------    --------------  -----\n",
      " 0   SEQN      10149 non-null  int64\n",
      " 1   RIDAGEYR  10149 non-null  int64\n",
      " 2   RIAGENDR  10149 non-null  int64\n",
      " 3   RIDRETH1  10149 non-null  int64\n",
      "dtypes: int64(4)\n",
      "memory usage: 317.3 KB\n"
     ]
    }
   ],
   "source": [
    "df_demo.info()"
   ]
  },
  {
   "cell_type": "code",
   "execution_count": 10,
   "metadata": {},
   "outputs": [
    {
     "data": {
      "text/html": [
       "<div>\n",
       "<style scoped>\n",
       "    .dataframe tbody tr th:only-of-type {\n",
       "        vertical-align: middle;\n",
       "    }\n",
       "\n",
       "    .dataframe tbody tr th {\n",
       "        vertical-align: top;\n",
       "    }\n",
       "\n",
       "    .dataframe thead th {\n",
       "        text-align: right;\n",
       "    }\n",
       "</style>\n",
       "<table border=\"1\" class=\"dataframe\">\n",
       "  <thead>\n",
       "    <tr style=\"text-align: right;\">\n",
       "      <th></th>\n",
       "      <th>SEQN</th>\n",
       "      <th>Age</th>\n",
       "      <th>Gender</th>\n",
       "      <th>Race</th>\n",
       "    </tr>\n",
       "  </thead>\n",
       "  <tbody>\n",
       "    <tr>\n",
       "      <th>0</th>\n",
       "      <td>41475</td>\n",
       "      <td>62</td>\n",
       "      <td>2</td>\n",
       "      <td>5</td>\n",
       "    </tr>\n",
       "    <tr>\n",
       "      <th>1</th>\n",
       "      <td>41476</td>\n",
       "      <td>6</td>\n",
       "      <td>2</td>\n",
       "      <td>5</td>\n",
       "    </tr>\n",
       "    <tr>\n",
       "      <th>2</th>\n",
       "      <td>41477</td>\n",
       "      <td>71</td>\n",
       "      <td>1</td>\n",
       "      <td>3</td>\n",
       "    </tr>\n",
       "    <tr>\n",
       "      <th>3</th>\n",
       "      <td>41478</td>\n",
       "      <td>1</td>\n",
       "      <td>2</td>\n",
       "      <td>3</td>\n",
       "    </tr>\n",
       "    <tr>\n",
       "      <th>4</th>\n",
       "      <td>41479</td>\n",
       "      <td>52</td>\n",
       "      <td>1</td>\n",
       "      <td>1</td>\n",
       "    </tr>\n",
       "  </tbody>\n",
       "</table>\n",
       "</div>"
      ],
      "text/plain": [
       "    SEQN  Age  Gender  Race\n",
       "0  41475   62       2     5\n",
       "1  41476    6       2     5\n",
       "2  41477   71       1     3\n",
       "3  41478    1       2     3\n",
       "4  41479   52       1     1"
      ]
     },
     "execution_count": 10,
     "metadata": {},
     "output_type": "execute_result"
    }
   ],
   "source": [
    "df_demo = df_demo.rename(columns={'RIDAGEYR':'Age', 'RIAGENDR':'Gender', 'RIDRETH1':'Race'})\n",
    "df_demo.head()"
   ]
  },
  {
   "cell_type": "markdown",
   "metadata": {},
   "source": [
    "# Examination Data (2007-2008)"
   ]
  },
  {
   "cell_type": "markdown",
   "metadata": {},
   "source": [
    "SEQN = Respondent sequence number\n",
    "\n",
    "BPXSY1 = Systolic blood pressure (mmHg)\n",
    "BPXDI1 = Diastolic blood pressure (mmHg)\n",
    "BPXCHR = Hear rate (bpm)\n",
    "BPXPLS = Pulse rate (bpm)\n",
    "\n",
    "BMXWT = Weight in kg\n",
    "BMXHT = height in cm\n",
    "BMXBMI = BMI (kg/m2)\n",
    "BMXWAIST = waist cirumference in cm\n",
    "BMXTRI = tricep skinfold measurement (mm)\n",
    "BMXSUB = subscapularis skinfold measurment (mm)\n",
    "\n",
    "\n",
    "Missing:  Available in later years but not in the 2007-2008 data\n",
    "\n",
    "MGXH1T1 = Muscle grip strength test 1 (hand 1, kg)\n",
    "MGXH1T2 = Muscle grip strength test 2 (hand 1, kg)\n",
    "MGXH1T3 = Muscle grip strength test 3 (hand 1, kg)\n",
    "MGXH2T1 = Muscle grip strength test 1 (hand 2, kg)\n",
    "MGXH2T2 = Muscle grip strength test 2 (hand 2, kg)\n",
    "MGXH2T3 = Muscle grip strength test 3 (hand 2, kg)\n"
   ]
  },
  {
   "cell_type": "markdown",
   "metadata": {},
   "source": [
    "### Blood Pressure:"
   ]
  },
  {
   "cell_type": "markdown",
   "metadata": {},
   "source": [
    "BPXSY1 = Systolic blood pressure (mmHg)\n",
    "BPXDI1 = Diastolic blood pressure (mmHg)\n",
    "BPXCHR = Hear rate (bpm)\n",
    "BPXPLS = Pulse rate (bpm)"
   ]
  },
  {
   "cell_type": "code",
   "execution_count": 11,
   "metadata": {},
   "outputs": [],
   "source": [
    "path_bp = '/Users/hf/Desktop/ICPSR_25505/BP/25505-0011-Data.tsv'\n",
    "df_bp = pd.read_csv(path_bp, sep='\\t', low_memory=False)"
   ]
  },
  {
   "cell_type": "code",
   "execution_count": 12,
   "metadata": {},
   "outputs": [],
   "source": [
    "df_bp = df_bp[['SEQN', 'BPXSY1', 'BPXDI1', 'BPXCHR', 'BPXPLS']]"
   ]
  },
  {
   "cell_type": "code",
   "execution_count": 13,
   "metadata": {},
   "outputs": [],
   "source": [
    "df_bp = df_bp.replace(r'^\\s+$', np.nan, regex=True)"
   ]
  },
  {
   "cell_type": "code",
   "execution_count": 14,
   "metadata": {},
   "outputs": [
    {
     "data": {
      "text/plain": [
       "SEQN         0\n",
       "BPXSY1    2615\n",
       "BPXDI1    2615\n",
       "BPXCHR    7746\n",
       "BPXPLS    2401\n",
       "dtype: int64"
      ]
     },
     "execution_count": 14,
     "metadata": {},
     "output_type": "execute_result"
    }
   ],
   "source": [
    "df_bp.isna().sum()"
   ]
  },
  {
   "cell_type": "code",
   "execution_count": 15,
   "metadata": {},
   "outputs": [],
   "source": [
    "df_bp.BPXPLS.fillna(df_bp.BPXCHR, inplace=True)"
   ]
  },
  {
   "cell_type": "code",
   "execution_count": 16,
   "metadata": {},
   "outputs": [],
   "source": [
    "df_bp = df_bp[['SEQN', 'BPXSY1', 'BPXDI1', 'BPXPLS']]\n",
    "df_bp = df_bp.rename(columns={'BPXSY1':'Systolic BP', 'BPXDI1':'Diastolic BP', 'BPXPLS':'Resting HR'})"
   ]
  },
  {
   "cell_type": "code",
   "execution_count": 17,
   "metadata": {},
   "outputs": [
    {
     "data": {
      "text/html": [
       "<div>\n",
       "<style scoped>\n",
       "    .dataframe tbody tr th:only-of-type {\n",
       "        vertical-align: middle;\n",
       "    }\n",
       "\n",
       "    .dataframe tbody tr th {\n",
       "        vertical-align: top;\n",
       "    }\n",
       "\n",
       "    .dataframe thead th {\n",
       "        text-align: right;\n",
       "    }\n",
       "</style>\n",
       "<table border=\"1\" class=\"dataframe\">\n",
       "  <thead>\n",
       "    <tr style=\"text-align: right;\">\n",
       "      <th></th>\n",
       "      <th>SEQN</th>\n",
       "      <th>Systolic BP</th>\n",
       "      <th>Diastolic BP</th>\n",
       "      <th>Resting HR</th>\n",
       "    </tr>\n",
       "  </thead>\n",
       "  <tbody>\n",
       "    <tr>\n",
       "      <th>0</th>\n",
       "      <td>41475</td>\n",
       "      <td>128</td>\n",
       "      <td>64</td>\n",
       "      <td>66</td>\n",
       "    </tr>\n",
       "    <tr>\n",
       "      <th>1</th>\n",
       "      <td>41476</td>\n",
       "      <td>NaN</td>\n",
       "      <td>NaN</td>\n",
       "      <td>72</td>\n",
       "    </tr>\n",
       "    <tr>\n",
       "      <th>2</th>\n",
       "      <td>41477</td>\n",
       "      <td>144</td>\n",
       "      <td>60</td>\n",
       "      <td>78</td>\n",
       "    </tr>\n",
       "    <tr>\n",
       "      <th>3</th>\n",
       "      <td>41478</td>\n",
       "      <td>NaN</td>\n",
       "      <td>NaN</td>\n",
       "      <td>120</td>\n",
       "    </tr>\n",
       "    <tr>\n",
       "      <th>4</th>\n",
       "      <td>41479</td>\n",
       "      <td>112</td>\n",
       "      <td>70</td>\n",
       "      <td>62</td>\n",
       "    </tr>\n",
       "  </tbody>\n",
       "</table>\n",
       "</div>"
      ],
      "text/plain": [
       "    SEQN Systolic BP Diastolic BP Resting HR\n",
       "0  41475         128           64         66\n",
       "1  41476         NaN          NaN         72\n",
       "2  41477         144           60         78\n",
       "3  41478         NaN          NaN        120\n",
       "4  41479         112           70         62"
      ]
     },
     "execution_count": 17,
     "metadata": {},
     "output_type": "execute_result"
    }
   ],
   "source": [
    "df_bp.head()"
   ]
  },
  {
   "cell_type": "markdown",
   "metadata": {},
   "source": [
    "### Body Measurements:"
   ]
  },
  {
   "cell_type": "markdown",
   "metadata": {},
   "source": [
    "BMXWT = Weight in kg\n",
    "BMXHT = height in cm\n",
    "BMXBMI = BMI (kg/m2)\n",
    "BMXWAIST = waist cirumference in cm\n",
    "BMXTRI = tricep skinfold measurement (mm)\n",
    "BMXSUB = subscapularis skinfold measurment (mm)"
   ]
  },
  {
   "cell_type": "code",
   "execution_count": 18,
   "metadata": {},
   "outputs": [],
   "source": [
    "path_body = '/Users/hf/Desktop/ICPSR_25505/BodyMeasurements/25505-0012-Data.tsv'\n",
    "df_body = pd.read_csv(path_body, sep='\\t', low_memory=False)"
   ]
  },
  {
   "cell_type": "code",
   "execution_count": 19,
   "metadata": {},
   "outputs": [],
   "source": [
    "df_body = df_body.rename(columns={'BMXWT':'Weight', 'BMXHT':'Height', 'BMXBMI':'BMI', 'BMXWAIST':'Waist Circumference', 'BMXTRI':'Tricep Skinfold', 'BMXSUB':'Subscap Skinfold'})"
   ]
  },
  {
   "cell_type": "code",
   "execution_count": 20,
   "metadata": {},
   "outputs": [],
   "source": [
    "df_body = df_body[['SEQN', 'Weight', 'Height', 'BMI', 'Waist Circumference', 'Tricep Skinfold', 'Subscap Skinfold']]"
   ]
  },
  {
   "cell_type": "code",
   "execution_count": 21,
   "metadata": {},
   "outputs": [],
   "source": [
    "df_body = df_body.replace(r'^\\s+$', np.nan, regex=True)"
   ]
  },
  {
   "cell_type": "code",
   "execution_count": 22,
   "metadata": {},
   "outputs": [
    {
     "name": "stdout",
     "output_type": "stream",
     "text": [
      "<class 'pandas.core.frame.DataFrame'>\n",
      "RangeIndex: 9762 entries, 0 to 9761\n",
      "Data columns (total 7 columns):\n",
      " #   Column               Non-Null Count  Dtype \n",
      "---  ------               --------------  ----- \n",
      " 0   SEQN                 9762 non-null   int64 \n",
      " 1   Weight               9631 non-null   object\n",
      " 2   Height               8873 non-null   object\n",
      " 3   BMI                  8898 non-null   object\n",
      " 4   Waist Circumference  8538 non-null   object\n",
      " 5   Tricep Skinfold      8944 non-null   object\n",
      " 6   Subscap Skinfold     8213 non-null   object\n",
      "dtypes: int64(1), object(6)\n",
      "memory usage: 534.0+ KB\n"
     ]
    }
   ],
   "source": [
    "df_body.info()"
   ]
  },
  {
   "cell_type": "markdown",
   "metadata": {},
   "source": [
    "### Physical Activity:"
   ]
  },
  {
   "cell_type": "markdown",
   "metadata": {},
   "source": [
    "PAQ560 - Times per week play or exercise hard\n",
    "PAQ605 - Vigorous work activity (1=yes, 2=no, 7=refused, 9=dont know)\n",
    "PAQ620 - Moderate work activity \n",
    "PAQ635 - Walk or bicycle at least 10 minutes continuously? (1=Yes, 2=No)\n",
    "PAQ650 - Vigorous Recreational activity (10 minutes continuous)? \n",
    "PAQ665 - Moderate recreational activity\n",
    "PAD680 - Minutes Sedentary activity (time in a typical day)"
   ]
  },
  {
   "cell_type": "code",
   "execution_count": 23,
   "metadata": {},
   "outputs": [],
   "source": [
    "path_pa = '/Users/hf/Desktop/ICPSR_25505/PhysicalActivity/25505-0221-Data.tsv'\n",
    "df_pa = pd.read_csv(path_pa, sep='\\t')"
   ]
  },
  {
   "cell_type": "code",
   "execution_count": 24,
   "metadata": {},
   "outputs": [],
   "source": [
    "df_pa = df_pa[['SEQN', 'PAQ560', 'PAQ605', 'PAQ620', 'PAQ635', 'PAQ650', 'PAQ665', 'PAD680']]"
   ]
  },
  {
   "cell_type": "code",
   "execution_count": 25,
   "metadata": {},
   "outputs": [],
   "source": [
    "df_pa = df_pa.rename(columns={'PAQ560':'Weekly exercise', 'PAQ605':'Vigorous work activity', 'PAQ620':'Moderate work activity', 'PAQ635':'Walk or bicycle', 'PAQ650':'Vigorous recreational activity', 'PAQ665':'Moderate recreational activity', 'PAD680':'Minutes sedentary'})"
   ]
  },
  {
   "cell_type": "code",
   "execution_count": 26,
   "metadata": {},
   "outputs": [],
   "source": [
    "df_pa = df_pa.replace(r'^\\s+$', np.nan, regex=True)"
   ]
  },
  {
   "cell_type": "code",
   "execution_count": 27,
   "metadata": {},
   "outputs": [
    {
     "name": "stdout",
     "output_type": "stream",
     "text": [
      "<class 'pandas.core.frame.DataFrame'>\n",
      "RangeIndex: 9359 entries, 0 to 9358\n",
      "Data columns (total 8 columns):\n",
      " #   Column                          Non-Null Count  Dtype \n",
      "---  ------                          --------------  ----- \n",
      " 0   SEQN                            9359 non-null   int64 \n",
      " 1   Weekly exercise                 1932 non-null   object\n",
      " 2   Vigorous work activity          7105 non-null   object\n",
      " 3   Moderate work activity          7105 non-null   object\n",
      " 4   Walk or bicycle                 7105 non-null   object\n",
      " 5   Vigorous recreational activity  7105 non-null   object\n",
      " 6   Moderate recreational activity  7105 non-null   object\n",
      " 7   Minutes sedentary               7091 non-null   object\n",
      "dtypes: int64(1), object(7)\n",
      "memory usage: 585.1+ KB\n"
     ]
    }
   ],
   "source": [
    "df_pa.info()"
   ]
  },
  {
   "cell_type": "markdown",
   "metadata": {},
   "source": [
    "### Bone Mineral Density:"
   ]
  },
  {
   "cell_type": "code",
   "execution_count": 28,
   "metadata": {},
   "outputs": [],
   "source": [
    "path_bmd = '/Users/hf/Desktop/ICPSR_25505/DEXA/25505-0013-Data.tsv'\n",
    "df_bmd = pd.read_csv(path_bmd, sep='\\t', usecols = ['SEQN', 'DXXOFBMD', 'DXXNKBMD', 'DXXTRBMD'])"
   ]
  },
  {
   "cell_type": "code",
   "execution_count": 29,
   "metadata": {},
   "outputs": [],
   "source": [
    "df_bmd = df_bmd.rename(columns={'DXXOFBMD':'Femur BMD', 'DXXNKBMD':'Femoral Neck BMD', 'DXXTRBMD':'Trochanter BMD'})"
   ]
  },
  {
   "cell_type": "code",
   "execution_count": 30,
   "metadata": {},
   "outputs": [],
   "source": [
    "df_bmd = df_bmd.replace(r'^\\s+$', np.nan, regex=True)"
   ]
  },
  {
   "cell_type": "code",
   "execution_count": 31,
   "metadata": {},
   "outputs": [
    {
     "data": {
      "text/html": [
       "<div>\n",
       "<style scoped>\n",
       "    .dataframe tbody tr th:only-of-type {\n",
       "        vertical-align: middle;\n",
       "    }\n",
       "\n",
       "    .dataframe tbody tr th {\n",
       "        vertical-align: top;\n",
       "    }\n",
       "\n",
       "    .dataframe thead th {\n",
       "        text-align: right;\n",
       "    }\n",
       "</style>\n",
       "<table border=\"1\" class=\"dataframe\">\n",
       "  <thead>\n",
       "    <tr style=\"text-align: right;\">\n",
       "      <th></th>\n",
       "      <th>SEQN</th>\n",
       "      <th>Femur BMD</th>\n",
       "      <th>Femoral Neck BMD</th>\n",
       "      <th>Trochanter BMD</th>\n",
       "    </tr>\n",
       "  </thead>\n",
       "  <tbody>\n",
       "    <tr>\n",
       "      <th>0</th>\n",
       "      <td>41475</td>\n",
       "      <td>NaN</td>\n",
       "      <td>NaN</td>\n",
       "      <td>NaN</td>\n",
       "    </tr>\n",
       "    <tr>\n",
       "      <th>1</th>\n",
       "      <td>41477</td>\n",
       "      <td>1.001</td>\n",
       "      <td>.901</td>\n",
       "      <td>.723</td>\n",
       "    </tr>\n",
       "    <tr>\n",
       "      <th>2</th>\n",
       "      <td>41479</td>\n",
       "      <td>.907</td>\n",
       "      <td>.825</td>\n",
       "      <td>.657</td>\n",
       "    </tr>\n",
       "    <tr>\n",
       "      <th>3</th>\n",
       "      <td>41481</td>\n",
       "      <td>1.27</td>\n",
       "      <td>1.129</td>\n",
       "      <td>1.031</td>\n",
       "    </tr>\n",
       "    <tr>\n",
       "      <th>4</th>\n",
       "      <td>41482</td>\n",
       "      <td>.972</td>\n",
       "      <td>.791</td>\n",
       "      <td>.718</td>\n",
       "    </tr>\n",
       "  </tbody>\n",
       "</table>\n",
       "</div>"
      ],
      "text/plain": [
       "    SEQN Femur BMD Femoral Neck BMD Trochanter BMD\n",
       "0  41475       NaN              NaN            NaN\n",
       "1  41477     1.001             .901           .723\n",
       "2  41479      .907             .825           .657\n",
       "3  41481      1.27            1.129          1.031\n",
       "4  41482      .972             .791           .718"
      ]
     },
     "execution_count": 31,
     "metadata": {},
     "output_type": "execute_result"
    }
   ],
   "source": [
    "df_bmd.head()"
   ]
  },
  {
   "cell_type": "code",
   "execution_count": 32,
   "metadata": {},
   "outputs": [
    {
     "name": "stdout",
     "output_type": "stream",
     "text": [
      "<class 'pandas.core.frame.DataFrame'>\n",
      "RangeIndex: 7734 entries, 0 to 7733\n",
      "Data columns (total 4 columns):\n",
      " #   Column            Non-Null Count  Dtype \n",
      "---  ------            --------------  ----- \n",
      " 0   SEQN              7734 non-null   int64 \n",
      " 1   Femur BMD         6517 non-null   object\n",
      " 2   Femoral Neck BMD  6517 non-null   object\n",
      " 3   Trochanter BMD    6517 non-null   object\n",
      "dtypes: int64(1), object(3)\n",
      "memory usage: 241.8+ KB\n"
     ]
    }
   ],
   "source": [
    "df_bmd.info()"
   ]
  },
  {
   "cell_type": "markdown",
   "metadata": {},
   "source": [
    "### C-Reactive Protein:"
   ]
  },
  {
   "cell_type": "markdown",
   "metadata": {},
   "source": [
    "CRP (mg/dl)"
   ]
  },
  {
   "cell_type": "code",
   "execution_count": 33,
   "metadata": {},
   "outputs": [],
   "source": [
    "path_crp = '/Users/hf/Desktop/ICPSR_25505/CRP/25505-0103-Data.tsv'\n",
    "df_crp = pd.read_csv(path_crp, sep='\\t')"
   ]
  },
  {
   "cell_type": "code",
   "execution_count": 34,
   "metadata": {},
   "outputs": [],
   "source": [
    "df_crp = df_crp[['SEQN', 'LBXCRP']]\n",
    "df_crp = df_crp.replace(r'^\\s+$', np.nan, regex=True)"
   ]
  },
  {
   "cell_type": "code",
   "execution_count": 35,
   "metadata": {},
   "outputs": [
    {
     "name": "stdout",
     "output_type": "stream",
     "text": [
      "<class 'pandas.core.frame.DataFrame'>\n",
      "RangeIndex: 8712 entries, 0 to 8711\n",
      "Data columns (total 2 columns):\n",
      " #   Column  Non-Null Count  Dtype \n",
      "---  ------  --------------  ----- \n",
      " 0   SEQN    8712 non-null   int64 \n",
      " 1   LBXCRP  6809 non-null   object\n",
      "dtypes: int64(1), object(1)\n",
      "memory usage: 136.2+ KB\n"
     ]
    }
   ],
   "source": [
    "df_crp.info()"
   ]
  },
  {
   "cell_type": "code",
   "execution_count": 36,
   "metadata": {},
   "outputs": [
    {
     "data": {
      "text/html": [
       "<div>\n",
       "<style scoped>\n",
       "    .dataframe tbody tr th:only-of-type {\n",
       "        vertical-align: middle;\n",
       "    }\n",
       "\n",
       "    .dataframe tbody tr th {\n",
       "        vertical-align: top;\n",
       "    }\n",
       "\n",
       "    .dataframe thead th {\n",
       "        text-align: right;\n",
       "    }\n",
       "</style>\n",
       "<table border=\"1\" class=\"dataframe\">\n",
       "  <thead>\n",
       "    <tr style=\"text-align: right;\">\n",
       "      <th></th>\n",
       "      <th>SEQN</th>\n",
       "      <th>LBXCRP</th>\n",
       "    </tr>\n",
       "  </thead>\n",
       "  <tbody>\n",
       "    <tr>\n",
       "      <th>0</th>\n",
       "      <td>41475</td>\n",
       "      <td>1.98</td>\n",
       "    </tr>\n",
       "    <tr>\n",
       "      <th>1</th>\n",
       "      <td>41476</td>\n",
       "      <td>NaN</td>\n",
       "    </tr>\n",
       "    <tr>\n",
       "      <th>2</th>\n",
       "      <td>41477</td>\n",
       "      <td>.07</td>\n",
       "    </tr>\n",
       "    <tr>\n",
       "      <th>3</th>\n",
       "      <td>41479</td>\n",
       "      <td>.02</td>\n",
       "    </tr>\n",
       "    <tr>\n",
       "      <th>4</th>\n",
       "      <td>41480</td>\n",
       "      <td>NaN</td>\n",
       "    </tr>\n",
       "  </tbody>\n",
       "</table>\n",
       "</div>"
      ],
      "text/plain": [
       "    SEQN LBXCRP\n",
       "0  41475   1.98\n",
       "1  41476    NaN\n",
       "2  41477    .07\n",
       "3  41479    .02\n",
       "4  41480    NaN"
      ]
     },
     "execution_count": 36,
     "metadata": {},
     "output_type": "execute_result"
    }
   ],
   "source": [
    "df_crp.head()"
   ]
  },
  {
   "cell_type": "markdown",
   "metadata": {},
   "source": [
    "# Combining seperate dataframes into one dataframe:"
   ]
  },
  {
   "cell_type": "code",
   "execution_count": 37,
   "metadata": {},
   "outputs": [],
   "source": [
    "from functools import reduce"
   ]
  },
  {
   "cell_type": "code",
   "execution_count": 38,
   "metadata": {},
   "outputs": [],
   "source": [
    "dfs = [df_demo, df_bp, df_body, df_pa, df_bmd, df_crp]"
   ]
  },
  {
   "cell_type": "code",
   "execution_count": 39,
   "metadata": {},
   "outputs": [],
   "source": [
    "df_merged = reduce(lambda  left,right: pd.merge(left, right, on=['SEQN'], how='outer'), dfs)"
   ]
  },
  {
   "cell_type": "code",
   "execution_count": 40,
   "metadata": {},
   "outputs": [
    {
     "name": "stdout",
     "output_type": "stream",
     "text": [
      "<class 'pandas.core.frame.DataFrame'>\n",
      "Int64Index: 6809 entries, 0 to 10148\n",
      "Data columns (total 24 columns):\n",
      " #   Column                          Non-Null Count  Dtype \n",
      "---  ------                          --------------  ----- \n",
      " 0   SEQN                            6809 non-null   int64 \n",
      " 1   Age                             6809 non-null   int64 \n",
      " 2   Gender                          6809 non-null   int64 \n",
      " 3   Race                            6809 non-null   int64 \n",
      " 4   Systolic BP                     5984 non-null   object\n",
      " 5   Diastolic BP                    5984 non-null   object\n",
      " 6   Resting HR                      6560 non-null   object\n",
      " 7   Weight                          6715 non-null   object\n",
      " 8   Height                          6715 non-null   object\n",
      " 9   BMI                             6711 non-null   object\n",
      " 10  Waist Circumference             6526 non-null   object\n",
      " 11  Tricep Skinfold                 6290 non-null   object\n",
      " 12  Subscap Skinfold                5642 non-null   object\n",
      " 13  Weekly exercise                 362 non-null    object\n",
      " 14  Vigorous work activity          6369 non-null   object\n",
      " 15  Moderate work activity          6369 non-null   object\n",
      " 16  Walk or bicycle                 6369 non-null   object\n",
      " 17  Vigorous recreational activity  6369 non-null   object\n",
      " 18  Moderate recreational activity  6369 non-null   object\n",
      " 19  Minutes sedentary               6358 non-null   object\n",
      " 20  Femur BMD                       5468 non-null   object\n",
      " 21  Femoral Neck BMD                5468 non-null   object\n",
      " 22  Trochanter BMD                  5468 non-null   object\n",
      " 23  LBXCRP                          6809 non-null   object\n",
      "dtypes: int64(4), object(20)\n",
      "memory usage: 1.3+ MB\n"
     ]
    }
   ],
   "source": [
    "df_merged[df_merged['LBXCRP'].apply(lambda x: x==x)].info()"
   ]
  },
  {
   "cell_type": "markdown",
   "metadata": {},
   "source": [
    "# Data Cleaning:"
   ]
  },
  {
   "cell_type": "markdown",
   "metadata": {},
   "source": [
    "### Percentage of each feature that is missing:"
   ]
  },
  {
   "cell_type": "code",
   "execution_count": 41,
   "metadata": {},
   "outputs": [
    {
     "data": {
      "text/html": [
       "<div>\n",
       "<style scoped>\n",
       "    .dataframe tbody tr th:only-of-type {\n",
       "        vertical-align: middle;\n",
       "    }\n",
       "\n",
       "    .dataframe tbody tr th {\n",
       "        vertical-align: top;\n",
       "    }\n",
       "\n",
       "    .dataframe thead th {\n",
       "        text-align: right;\n",
       "    }\n",
       "</style>\n",
       "<table border=\"1\" class=\"dataframe\">\n",
       "  <thead>\n",
       "    <tr style=\"text-align: right;\">\n",
       "      <th></th>\n",
       "      <th>percent</th>\n",
       "    </tr>\n",
       "  </thead>\n",
       "  <tbody>\n",
       "    <tr>\n",
       "      <th>Weekly exercise</th>\n",
       "      <td>0.809636</td>\n",
       "    </tr>\n",
       "    <tr>\n",
       "      <th>Femoral Neck BMD</th>\n",
       "      <td>0.357868</td>\n",
       "    </tr>\n",
       "    <tr>\n",
       "      <th>Femur BMD</th>\n",
       "      <td>0.357868</td>\n",
       "    </tr>\n",
       "    <tr>\n",
       "      <th>Trochanter BMD</th>\n",
       "      <td>0.357868</td>\n",
       "    </tr>\n",
       "    <tr>\n",
       "      <th>LBXCRP</th>\n",
       "      <td>0.329096</td>\n",
       "    </tr>\n",
       "    <tr>\n",
       "      <th>Minutes sedentary</th>\n",
       "      <td>0.301310</td>\n",
       "    </tr>\n",
       "    <tr>\n",
       "      <th>Vigorous work activity</th>\n",
       "      <td>0.299931</td>\n",
       "    </tr>\n",
       "    <tr>\n",
       "      <th>Moderate work activity</th>\n",
       "      <td>0.299931</td>\n",
       "    </tr>\n",
       "    <tr>\n",
       "      <th>Walk or bicycle</th>\n",
       "      <td>0.299931</td>\n",
       "    </tr>\n",
       "    <tr>\n",
       "      <th>Vigorous recreational activity</th>\n",
       "      <td>0.299931</td>\n",
       "    </tr>\n",
       "    <tr>\n",
       "      <th>Moderate recreational activity</th>\n",
       "      <td>0.299931</td>\n",
       "    </tr>\n",
       "    <tr>\n",
       "      <th>Diastolic BP</th>\n",
       "      <td>0.295793</td>\n",
       "    </tr>\n",
       "    <tr>\n",
       "      <th>Systolic BP</th>\n",
       "      <td>0.295793</td>\n",
       "    </tr>\n",
       "    <tr>\n",
       "      <th>Subscap Skinfold</th>\n",
       "      <td>0.190758</td>\n",
       "    </tr>\n",
       "    <tr>\n",
       "      <th>Waist Circumference</th>\n",
       "      <td>0.158735</td>\n",
       "    </tr>\n",
       "    <tr>\n",
       "      <th>Height</th>\n",
       "      <td>0.125727</td>\n",
       "    </tr>\n",
       "    <tr>\n",
       "      <th>BMI</th>\n",
       "      <td>0.123263</td>\n",
       "    </tr>\n",
       "    <tr>\n",
       "      <th>Tricep Skinfold</th>\n",
       "      <td>0.118731</td>\n",
       "    </tr>\n",
       "    <tr>\n",
       "      <th>Resting HR</th>\n",
       "      <td>0.076067</td>\n",
       "    </tr>\n",
       "    <tr>\n",
       "      <th>Weight</th>\n",
       "      <td>0.051040</td>\n",
       "    </tr>\n",
       "  </tbody>\n",
       "</table>\n",
       "</div>"
      ],
      "text/plain": [
       "                                 percent\n",
       "Weekly exercise                 0.809636\n",
       "Femoral Neck BMD                0.357868\n",
       "Femur BMD                       0.357868\n",
       "Trochanter BMD                  0.357868\n",
       "LBXCRP                          0.329096\n",
       "Minutes sedentary               0.301310\n",
       "Vigorous work activity          0.299931\n",
       "Moderate work activity          0.299931\n",
       "Walk or bicycle                 0.299931\n",
       "Vigorous recreational activity  0.299931\n",
       "Moderate recreational activity  0.299931\n",
       "Diastolic BP                    0.295793\n",
       "Systolic BP                     0.295793\n",
       "Subscap Skinfold                0.190758\n",
       "Waist Circumference             0.158735\n",
       "Height                          0.125727\n",
       "BMI                             0.123263\n",
       "Tricep Skinfold                 0.118731\n",
       "Resting HR                      0.076067\n",
       "Weight                          0.051040"
      ]
     },
     "execution_count": 41,
     "metadata": {},
     "output_type": "execute_result"
    }
   ],
   "source": [
    "nas=pd.DataFrame(df_merged.isnull().sum().sort_values(ascending=False)/len(df_merged),columns = ['percent'])\n",
    "pos = nas['percent'] > 0\n",
    "nas[pos]"
   ]
  },
  {
   "cell_type": "code",
   "execution_count": 42,
   "metadata": {},
   "outputs": [],
   "source": [
    "df_merged = df_merged.drop('Weekly exercise', axis=1)"
   ]
  },
  {
   "cell_type": "markdown",
   "metadata": {},
   "source": [
    "# Addressing NaN"
   ]
  },
  {
   "cell_type": "markdown",
   "metadata": {},
   "source": [
    "### Femoral Neck BMD (Ignore this for now, likely irrelevent)"
   ]
  },
  {
   "cell_type": "code",
   "execution_count": 43,
   "metadata": {},
   "outputs": [],
   "source": [
    "df_merged['Femoral Neck BMD'] = df_merged['Femoral Neck BMD'].astype(float)"
   ]
  },
  {
   "cell_type": "code",
   "execution_count": 44,
   "metadata": {},
   "outputs": [
    {
     "data": {
      "text/plain": [
       "3340"
      ]
     },
     "execution_count": 44,
     "metadata": {},
     "output_type": "execute_result"
    }
   ],
   "source": [
    "df_merged['LBXCRP'].isnull().sum()"
   ]
  },
  {
   "cell_type": "markdown",
   "metadata": {},
   "source": [
    "#### Drop the NaN values for LBXCRP and create a new DF called df_merged2 (very creative, I know)"
   ]
  },
  {
   "cell_type": "code",
   "execution_count": 45,
   "metadata": {},
   "outputs": [],
   "source": [
    "df_merged2 = df_merged.dropna(how='any', subset=['LBXCRP'])"
   ]
  },
  {
   "cell_type": "code",
   "execution_count": 46,
   "metadata": {},
   "outputs": [
    {
     "name": "stdout",
     "output_type": "stream",
     "text": [
      "<class 'pandas.core.frame.DataFrame'>\n",
      "Int64Index: 6809 entries, 0 to 10148\n",
      "Data columns (total 23 columns):\n",
      " #   Column                          Non-Null Count  Dtype  \n",
      "---  ------                          --------------  -----  \n",
      " 0   SEQN                            6809 non-null   int64  \n",
      " 1   Age                             6809 non-null   int64  \n",
      " 2   Gender                          6809 non-null   int64  \n",
      " 3   Race                            6809 non-null   int64  \n",
      " 4   Systolic BP                     5984 non-null   object \n",
      " 5   Diastolic BP                    5984 non-null   object \n",
      " 6   Resting HR                      6560 non-null   object \n",
      " 7   Weight                          6715 non-null   object \n",
      " 8   Height                          6715 non-null   object \n",
      " 9   BMI                             6711 non-null   object \n",
      " 10  Waist Circumference             6526 non-null   object \n",
      " 11  Tricep Skinfold                 6290 non-null   object \n",
      " 12  Subscap Skinfold                5642 non-null   object \n",
      " 13  Vigorous work activity          6369 non-null   object \n",
      " 14  Moderate work activity          6369 non-null   object \n",
      " 15  Walk or bicycle                 6369 non-null   object \n",
      " 16  Vigorous recreational activity  6369 non-null   object \n",
      " 17  Moderate recreational activity  6369 non-null   object \n",
      " 18  Minutes sedentary               6358 non-null   object \n",
      " 19  Femur BMD                       5468 non-null   object \n",
      " 20  Femoral Neck BMD                5468 non-null   float64\n",
      " 21  Trochanter BMD                  5468 non-null   object \n",
      " 22  LBXCRP                          6809 non-null   object \n",
      "dtypes: float64(1), int64(4), object(18)\n",
      "memory usage: 1.2+ MB\n"
     ]
    }
   ],
   "source": [
    "df_merged2.info()"
   ]
  },
  {
   "cell_type": "code",
   "execution_count": 47,
   "metadata": {},
   "outputs": [
    {
     "name": "stdout",
     "output_type": "stream",
     "text": [
      "<class 'pandas.core.frame.DataFrame'>\n",
      "Int64Index: 10149 entries, 0 to 10148\n",
      "Data columns (total 23 columns):\n",
      " #   Column                          Non-Null Count  Dtype  \n",
      "---  ------                          --------------  -----  \n",
      " 0   SEQN                            10149 non-null  int64  \n",
      " 1   Age                             10149 non-null  int64  \n",
      " 2   Gender                          10149 non-null  int64  \n",
      " 3   Race                            10149 non-null  int64  \n",
      " 4   Systolic BP                     7147 non-null   object \n",
      " 5   Diastolic BP                    7147 non-null   object \n",
      " 6   Resting HR                      9377 non-null   object \n",
      " 7   Weight                          9631 non-null   object \n",
      " 8   Height                          8873 non-null   object \n",
      " 9   BMI                             8898 non-null   object \n",
      " 10  Waist Circumference             8538 non-null   object \n",
      " 11  Tricep Skinfold                 8944 non-null   object \n",
      " 12  Subscap Skinfold                8213 non-null   object \n",
      " 13  Vigorous work activity          7105 non-null   object \n",
      " 14  Moderate work activity          7105 non-null   object \n",
      " 15  Walk or bicycle                 7105 non-null   object \n",
      " 16  Vigorous recreational activity  7105 non-null   object \n",
      " 17  Moderate recreational activity  7105 non-null   object \n",
      " 18  Minutes sedentary               7091 non-null   object \n",
      " 19  Femur BMD                       6517 non-null   object \n",
      " 20  Femoral Neck BMD                6517 non-null   float64\n",
      " 21  Trochanter BMD                  6517 non-null   object \n",
      " 22  LBXCRP                          6809 non-null   object \n",
      "dtypes: float64(1), int64(4), object(18)\n",
      "memory usage: 1.9+ MB\n"
     ]
    }
   ],
   "source": [
    "df_merged.info()"
   ]
  },
  {
   "cell_type": "markdown",
   "metadata": {},
   "source": [
    "##### Here is what I need to do next.  Create a seperate column in my df that has 1 and 0 for drop and keep.  If there is a nan value anywhere in the dataframe it will be 1, if there isn't a nan value in the dataframe we can set is as a 0.  Than, create a boxplot that will show me what all will be dropped and what all will be kept."
   ]
  },
  {
   "cell_type": "code",
   "execution_count": 48,
   "metadata": {},
   "outputs": [
    {
     "data": {
      "text/html": [
       "<div>\n",
       "<style scoped>\n",
       "    .dataframe tbody tr th:only-of-type {\n",
       "        vertical-align: middle;\n",
       "    }\n",
       "\n",
       "    .dataframe tbody tr th {\n",
       "        vertical-align: top;\n",
       "    }\n",
       "\n",
       "    .dataframe thead th {\n",
       "        text-align: right;\n",
       "    }\n",
       "</style>\n",
       "<table border=\"1\" class=\"dataframe\">\n",
       "  <thead>\n",
       "    <tr style=\"text-align: right;\">\n",
       "      <th></th>\n",
       "      <th>SEQN</th>\n",
       "      <th>Age</th>\n",
       "      <th>Gender</th>\n",
       "      <th>Race</th>\n",
       "      <th>Systolic BP</th>\n",
       "      <th>Diastolic BP</th>\n",
       "      <th>Resting HR</th>\n",
       "      <th>Weight</th>\n",
       "      <th>Height</th>\n",
       "      <th>BMI</th>\n",
       "      <th>...</th>\n",
       "      <th>Vigorous work activity</th>\n",
       "      <th>Moderate work activity</th>\n",
       "      <th>Walk or bicycle</th>\n",
       "      <th>Vigorous recreational activity</th>\n",
       "      <th>Moderate recreational activity</th>\n",
       "      <th>Minutes sedentary</th>\n",
       "      <th>Femur BMD</th>\n",
       "      <th>Femoral Neck BMD</th>\n",
       "      <th>Trochanter BMD</th>\n",
       "      <th>LBXCRP</th>\n",
       "    </tr>\n",
       "  </thead>\n",
       "  <tbody>\n",
       "    <tr>\n",
       "      <th>0</th>\n",
       "      <td>41475</td>\n",
       "      <td>62</td>\n",
       "      <td>2</td>\n",
       "      <td>5</td>\n",
       "      <td>128</td>\n",
       "      <td>64</td>\n",
       "      <td>66</td>\n",
       "      <td>138.9</td>\n",
       "      <td>154.7</td>\n",
       "      <td>58.04</td>\n",
       "      <td>...</td>\n",
       "      <td>2</td>\n",
       "      <td>2</td>\n",
       "      <td>2</td>\n",
       "      <td>2</td>\n",
       "      <td>2</td>\n",
       "      <td>720</td>\n",
       "      <td>NaN</td>\n",
       "      <td>NaN</td>\n",
       "      <td>NaN</td>\n",
       "      <td>1.98</td>\n",
       "    </tr>\n",
       "    <tr>\n",
       "      <th>8</th>\n",
       "      <td>41483</td>\n",
       "      <td>66</td>\n",
       "      <td>1</td>\n",
       "      <td>4</td>\n",
       "      <td>110</td>\n",
       "      <td>62</td>\n",
       "      <td>60</td>\n",
       "      <td>133.1</td>\n",
       "      <td>173.8</td>\n",
       "      <td>44.06</td>\n",
       "      <td>...</td>\n",
       "      <td>2</td>\n",
       "      <td>2</td>\n",
       "      <td>2</td>\n",
       "      <td>2</td>\n",
       "      <td>2</td>\n",
       "      <td>60</td>\n",
       "      <td>1.243</td>\n",
       "      <td>0.930</td>\n",
       "      <td>.949</td>\n",
       "      <td>1.49</td>\n",
       "    </tr>\n",
       "    <tr>\n",
       "      <th>13</th>\n",
       "      <td>41488</td>\n",
       "      <td>5</td>\n",
       "      <td>1</td>\n",
       "      <td>1</td>\n",
       "      <td>NaN</td>\n",
       "      <td>NaN</td>\n",
       "      <td>110</td>\n",
       "      <td>16.1</td>\n",
       "      <td>103.1</td>\n",
       "      <td>15.15</td>\n",
       "      <td>...</td>\n",
       "      <td>NaN</td>\n",
       "      <td>NaN</td>\n",
       "      <td>NaN</td>\n",
       "      <td>NaN</td>\n",
       "      <td>NaN</td>\n",
       "      <td>NaN</td>\n",
       "      <td>NaN</td>\n",
       "      <td>NaN</td>\n",
       "      <td>NaN</td>\n",
       "      <td>.03</td>\n",
       "    </tr>\n",
       "    <tr>\n",
       "      <th>21</th>\n",
       "      <td>41496</td>\n",
       "      <td>64</td>\n",
       "      <td>2</td>\n",
       "      <td>1</td>\n",
       "      <td>192</td>\n",
       "      <td>86</td>\n",
       "      <td>78</td>\n",
       "      <td>67.8</td>\n",
       "      <td>154.6</td>\n",
       "      <td>28.37</td>\n",
       "      <td>...</td>\n",
       "      <td>2</td>\n",
       "      <td>2</td>\n",
       "      <td>2</td>\n",
       "      <td>2</td>\n",
       "      <td>2</td>\n",
       "      <td>15</td>\n",
       "      <td>NaN</td>\n",
       "      <td>NaN</td>\n",
       "      <td>NaN</td>\n",
       "      <td>.62</td>\n",
       "    </tr>\n",
       "    <tr>\n",
       "      <th>23</th>\n",
       "      <td>41498</td>\n",
       "      <td>68</td>\n",
       "      <td>1</td>\n",
       "      <td>4</td>\n",
       "      <td>226</td>\n",
       "      <td>96</td>\n",
       "      <td>60</td>\n",
       "      <td>77.4</td>\n",
       "      <td>165.8</td>\n",
       "      <td>28.16</td>\n",
       "      <td>...</td>\n",
       "      <td>2</td>\n",
       "      <td>2</td>\n",
       "      <td>2</td>\n",
       "      <td>2</td>\n",
       "      <td>2</td>\n",
       "      <td>60</td>\n",
       "      <td>1.207</td>\n",
       "      <td>0.930</td>\n",
       "      <td>.904</td>\n",
       "      <td>.22</td>\n",
       "    </tr>\n",
       "    <tr>\n",
       "      <th>...</th>\n",
       "      <td>...</td>\n",
       "      <td>...</td>\n",
       "      <td>...</td>\n",
       "      <td>...</td>\n",
       "      <td>...</td>\n",
       "      <td>...</td>\n",
       "      <td>...</td>\n",
       "      <td>...</td>\n",
       "      <td>...</td>\n",
       "      <td>...</td>\n",
       "      <td>...</td>\n",
       "      <td>...</td>\n",
       "      <td>...</td>\n",
       "      <td>...</td>\n",
       "      <td>...</td>\n",
       "      <td>...</td>\n",
       "      <td>...</td>\n",
       "      <td>...</td>\n",
       "      <td>...</td>\n",
       "      <td>...</td>\n",
       "      <td>...</td>\n",
       "    </tr>\n",
       "    <tr>\n",
       "      <th>10121</th>\n",
       "      <td>51596</td>\n",
       "      <td>52</td>\n",
       "      <td>2</td>\n",
       "      <td>1</td>\n",
       "      <td>120</td>\n",
       "      <td>80</td>\n",
       "      <td>62</td>\n",
       "      <td>75.8</td>\n",
       "      <td>146.1</td>\n",
       "      <td>35.51</td>\n",
       "      <td>...</td>\n",
       "      <td>2</td>\n",
       "      <td>1</td>\n",
       "      <td>2</td>\n",
       "      <td>2</td>\n",
       "      <td>2</td>\n",
       "      <td>60</td>\n",
       "      <td>.774</td>\n",
       "      <td>0.652</td>\n",
       "      <td>.453</td>\n",
       "      <td>.44</td>\n",
       "    </tr>\n",
       "    <tr>\n",
       "      <th>10128</th>\n",
       "      <td>51603</td>\n",
       "      <td>39</td>\n",
       "      <td>2</td>\n",
       "      <td>3</td>\n",
       "      <td>NaN</td>\n",
       "      <td>NaN</td>\n",
       "      <td>NaN</td>\n",
       "      <td>63.7</td>\n",
       "      <td>172</td>\n",
       "      <td>21.53</td>\n",
       "      <td>...</td>\n",
       "      <td>2</td>\n",
       "      <td>2</td>\n",
       "      <td>1</td>\n",
       "      <td>1</td>\n",
       "      <td>1</td>\n",
       "      <td>540</td>\n",
       "      <td>NaN</td>\n",
       "      <td>NaN</td>\n",
       "      <td>NaN</td>\n",
       "      <td>.07</td>\n",
       "    </tr>\n",
       "    <tr>\n",
       "      <th>10135</th>\n",
       "      <td>51610</td>\n",
       "      <td>69</td>\n",
       "      <td>2</td>\n",
       "      <td>1</td>\n",
       "      <td>118</td>\n",
       "      <td>52</td>\n",
       "      <td>68</td>\n",
       "      <td>86.8</td>\n",
       "      <td>147.2</td>\n",
       "      <td>40.06</td>\n",
       "      <td>...</td>\n",
       "      <td>2</td>\n",
       "      <td>2</td>\n",
       "      <td>2</td>\n",
       "      <td>2</td>\n",
       "      <td>2</td>\n",
       "      <td>300</td>\n",
       "      <td>NaN</td>\n",
       "      <td>NaN</td>\n",
       "      <td>NaN</td>\n",
       "      <td>.32</td>\n",
       "    </tr>\n",
       "    <tr>\n",
       "      <th>10141</th>\n",
       "      <td>51616</td>\n",
       "      <td>60</td>\n",
       "      <td>1</td>\n",
       "      <td>3</td>\n",
       "      <td>180</td>\n",
       "      <td>62</td>\n",
       "      <td>74</td>\n",
       "      <td>142.6</td>\n",
       "      <td>183.4</td>\n",
       "      <td>42.4</td>\n",
       "      <td>...</td>\n",
       "      <td>2</td>\n",
       "      <td>2</td>\n",
       "      <td>2</td>\n",
       "      <td>2</td>\n",
       "      <td>2</td>\n",
       "      <td>480</td>\n",
       "      <td>NaN</td>\n",
       "      <td>NaN</td>\n",
       "      <td>NaN</td>\n",
       "      <td>.49</td>\n",
       "    </tr>\n",
       "    <tr>\n",
       "      <th>10148</th>\n",
       "      <td>51623</td>\n",
       "      <td>72</td>\n",
       "      <td>1</td>\n",
       "      <td>3</td>\n",
       "      <td>112</td>\n",
       "      <td>66</td>\n",
       "      <td>70</td>\n",
       "      <td>85.2</td>\n",
       "      <td>162.5</td>\n",
       "      <td>32.27</td>\n",
       "      <td>...</td>\n",
       "      <td>2</td>\n",
       "      <td>2</td>\n",
       "      <td>2</td>\n",
       "      <td>2</td>\n",
       "      <td>2</td>\n",
       "      <td>600</td>\n",
       "      <td>NaN</td>\n",
       "      <td>NaN</td>\n",
       "      <td>NaN</td>\n",
       "      <td>.86</td>\n",
       "    </tr>\n",
       "  </tbody>\n",
       "</table>\n",
       "<p>2386 rows × 23 columns</p>\n",
       "</div>"
      ],
      "text/plain": [
       "        SEQN  Age  Gender  Race Systolic BP Diastolic BP Resting HR Weight  \\\n",
       "0      41475   62       2     5         128           64         66  138.9   \n",
       "8      41483   66       1     4         110           62         60  133.1   \n",
       "13     41488    5       1     1         NaN          NaN        110   16.1   \n",
       "21     41496   64       2     1         192           86         78   67.8   \n",
       "23     41498   68       1     4         226           96         60   77.4   \n",
       "...      ...  ...     ...   ...         ...          ...        ...    ...   \n",
       "10121  51596   52       2     1         120           80         62   75.8   \n",
       "10128  51603   39       2     3         NaN          NaN        NaN   63.7   \n",
       "10135  51610   69       2     1         118           52         68   86.8   \n",
       "10141  51616   60       1     3         180           62         74  142.6   \n",
       "10148  51623   72       1     3         112           66         70   85.2   \n",
       "\n",
       "      Height    BMI  ... Vigorous work activity Moderate work activity  \\\n",
       "0      154.7  58.04  ...                      2                      2   \n",
       "8      173.8  44.06  ...                      2                      2   \n",
       "13     103.1  15.15  ...                    NaN                    NaN   \n",
       "21     154.6  28.37  ...                      2                      2   \n",
       "23     165.8  28.16  ...                      2                      2   \n",
       "...      ...    ...  ...                    ...                    ...   \n",
       "10121  146.1  35.51  ...                      2                      1   \n",
       "10128    172  21.53  ...                      2                      2   \n",
       "10135  147.2  40.06  ...                      2                      2   \n",
       "10141  183.4   42.4  ...                      2                      2   \n",
       "10148  162.5  32.27  ...                      2                      2   \n",
       "\n",
       "      Walk or bicycle Vigorous recreational activity  \\\n",
       "0                   2                              2   \n",
       "8                   2                              2   \n",
       "13                NaN                            NaN   \n",
       "21                  2                              2   \n",
       "23                  2                              2   \n",
       "...               ...                            ...   \n",
       "10121               2                              2   \n",
       "10128               1                              1   \n",
       "10135               2                              2   \n",
       "10141               2                              2   \n",
       "10148               2                              2   \n",
       "\n",
       "      Moderate recreational activity Minutes sedentary Femur BMD  \\\n",
       "0                                  2               720       NaN   \n",
       "8                                  2                60     1.243   \n",
       "13                               NaN               NaN       NaN   \n",
       "21                                 2                15       NaN   \n",
       "23                                 2                60     1.207   \n",
       "...                              ...               ...       ...   \n",
       "10121                              2                60      .774   \n",
       "10128                              1               540       NaN   \n",
       "10135                              2               300       NaN   \n",
       "10141                              2               480       NaN   \n",
       "10148                              2               600       NaN   \n",
       "\n",
       "      Femoral Neck BMD Trochanter BMD LBXCRP  \n",
       "0                  NaN            NaN   1.98  \n",
       "8                0.930           .949   1.49  \n",
       "13                 NaN            NaN    .03  \n",
       "21                 NaN            NaN    .62  \n",
       "23               0.930           .904    .22  \n",
       "...                ...            ...    ...  \n",
       "10121            0.652           .453    .44  \n",
       "10128              NaN            NaN    .07  \n",
       "10135              NaN            NaN    .32  \n",
       "10141              NaN            NaN    .49  \n",
       "10148              NaN            NaN    .86  \n",
       "\n",
       "[2386 rows x 23 columns]"
      ]
     },
     "execution_count": 48,
     "metadata": {},
     "output_type": "execute_result"
    }
   ],
   "source": [
    "df_merged2[df_merged2.isna().any(axis=1)]"
   ]
  },
  {
   "cell_type": "code",
   "execution_count": 49,
   "metadata": {},
   "outputs": [
    {
     "name": "stderr",
     "output_type": "stream",
     "text": [
      "/Applications/anaconda3/lib/python3.7/site-packages/ipykernel_launcher.py:1: SettingWithCopyWarning: \n",
      "A value is trying to be set on a copy of a slice from a DataFrame.\n",
      "Try using .loc[row_indexer,col_indexer] = value instead\n",
      "\n",
      "See the caveats in the documentation: https://pandas.pydata.org/pandas-docs/stable/user_guide/indexing.html#returning-a-view-versus-a-copy\n",
      "  \"\"\"Entry point for launching an IPython kernel.\n"
     ]
    }
   ],
   "source": [
    "df_merged2['NA'] = 0"
   ]
  },
  {
   "cell_type": "code",
   "execution_count": 50,
   "metadata": {},
   "outputs": [
    {
     "name": "stderr",
     "output_type": "stream",
     "text": [
      "/Applications/anaconda3/lib/python3.7/site-packages/pandas/core/indexing.py:966: SettingWithCopyWarning: \n",
      "A value is trying to be set on a copy of a slice from a DataFrame.\n",
      "Try using .loc[row_indexer,col_indexer] = value instead\n",
      "\n",
      "See the caveats in the documentation: https://pandas.pydata.org/pandas-docs/stable/user_guide/indexing.html#returning-a-view-versus-a-copy\n",
      "  self.obj[item] = s\n"
     ]
    }
   ],
   "source": [
    "df_merged2.loc[df_merged2.isna().any(axis=1), \"NA\"] = 1"
   ]
  },
  {
   "cell_type": "code",
   "execution_count": 51,
   "metadata": {},
   "outputs": [
    {
     "data": {
      "text/plain": [
       "0.35041856366573654"
      ]
     },
     "execution_count": 51,
     "metadata": {},
     "output_type": "execute_result"
    }
   ],
   "source": [
    "df_merged2.NA.mean()"
   ]
  },
  {
   "cell_type": "code",
   "execution_count": 52,
   "metadata": {},
   "outputs": [
    {
     "data": {
      "text/plain": [
       "2386"
      ]
     },
     "execution_count": 52,
     "metadata": {},
     "output_type": "execute_result"
    }
   ],
   "source": [
    "df_merged2.NA.sum()"
   ]
  },
  {
   "cell_type": "code",
   "execution_count": 53,
   "metadata": {},
   "outputs": [
    {
     "name": "stdout",
     "output_type": "stream",
     "text": [
      "<class 'pandas.core.frame.DataFrame'>\n",
      "Int64Index: 6809 entries, 0 to 10148\n",
      "Data columns (total 24 columns):\n",
      " #   Column                          Non-Null Count  Dtype  \n",
      "---  ------                          --------------  -----  \n",
      " 0   SEQN                            6809 non-null   int64  \n",
      " 1   Age                             6809 non-null   int64  \n",
      " 2   Gender                          6809 non-null   int64  \n",
      " 3   Race                            6809 non-null   int64  \n",
      " 4   Systolic BP                     5984 non-null   object \n",
      " 5   Diastolic BP                    5984 non-null   object \n",
      " 6   Resting HR                      6560 non-null   object \n",
      " 7   Weight                          6715 non-null   object \n",
      " 8   Height                          6715 non-null   object \n",
      " 9   BMI                             6711 non-null   object \n",
      " 10  Waist Circumference             6526 non-null   object \n",
      " 11  Tricep Skinfold                 6290 non-null   object \n",
      " 12  Subscap Skinfold                5642 non-null   object \n",
      " 13  Vigorous work activity          6369 non-null   object \n",
      " 14  Moderate work activity          6369 non-null   object \n",
      " 15  Walk or bicycle                 6369 non-null   object \n",
      " 16  Vigorous recreational activity  6369 non-null   object \n",
      " 17  Moderate recreational activity  6369 non-null   object \n",
      " 18  Minutes sedentary               6358 non-null   object \n",
      " 19  Femur BMD                       5468 non-null   object \n",
      " 20  Femoral Neck BMD                5468 non-null   float64\n",
      " 21  Trochanter BMD                  5468 non-null   object \n",
      " 22  LBXCRP                          6809 non-null   object \n",
      " 23  NA                              6809 non-null   int64  \n",
      "dtypes: float64(1), int64(5), object(18)\n",
      "memory usage: 1.3+ MB\n"
     ]
    }
   ],
   "source": [
    "df_merged2.info()"
   ]
  },
  {
   "cell_type": "code",
   "execution_count": 54,
   "metadata": {},
   "outputs": [],
   "source": [
    "df_merged2 = df_merged2.astype(float)"
   ]
  },
  {
   "cell_type": "code",
   "execution_count": 55,
   "metadata": {},
   "outputs": [
    {
     "name": "stdout",
     "output_type": "stream",
     "text": [
      "<class 'pandas.core.frame.DataFrame'>\n",
      "Int64Index: 6809 entries, 0 to 10148\n",
      "Data columns (total 24 columns):\n",
      " #   Column                          Non-Null Count  Dtype  \n",
      "---  ------                          --------------  -----  \n",
      " 0   SEQN                            6809 non-null   float64\n",
      " 1   Age                             6809 non-null   float64\n",
      " 2   Gender                          6809 non-null   float64\n",
      " 3   Race                            6809 non-null   float64\n",
      " 4   Systolic BP                     5984 non-null   float64\n",
      " 5   Diastolic BP                    5984 non-null   float64\n",
      " 6   Resting HR                      6560 non-null   float64\n",
      " 7   Weight                          6715 non-null   float64\n",
      " 8   Height                          6715 non-null   float64\n",
      " 9   BMI                             6711 non-null   float64\n",
      " 10  Waist Circumference             6526 non-null   float64\n",
      " 11  Tricep Skinfold                 6290 non-null   float64\n",
      " 12  Subscap Skinfold                5642 non-null   float64\n",
      " 13  Vigorous work activity          6369 non-null   float64\n",
      " 14  Moderate work activity          6369 non-null   float64\n",
      " 15  Walk or bicycle                 6369 non-null   float64\n",
      " 16  Vigorous recreational activity  6369 non-null   float64\n",
      " 17  Moderate recreational activity  6369 non-null   float64\n",
      " 18  Minutes sedentary               6358 non-null   float64\n",
      " 19  Femur BMD                       5468 non-null   float64\n",
      " 20  Femoral Neck BMD                5468 non-null   float64\n",
      " 21  Trochanter BMD                  5468 non-null   float64\n",
      " 22  LBXCRP                          6809 non-null   float64\n",
      " 23  NA                              6809 non-null   float64\n",
      "dtypes: float64(24)\n",
      "memory usage: 1.3 MB\n"
     ]
    }
   ],
   "source": [
    "df_merged2.info()"
   ]
  },
  {
   "cell_type": "markdown",
   "metadata": {},
   "source": [
    "### Mean value for columns without NaN values removed"
   ]
  },
  {
   "cell_type": "code",
   "execution_count": 56,
   "metadata": {},
   "outputs": [],
   "source": [
    "mean = [df_merged2[name].mean() for name in df_merged2.columns]"
   ]
  },
  {
   "cell_type": "code",
   "execution_count": 57,
   "metadata": {},
   "outputs": [
    {
     "data": {
      "text/plain": [
       "[46546.12835952416,\n",
       " 42.4248788368336,\n",
       " 1.4986047877808784,\n",
       " 2.787780878249376,\n",
       " 123.36330213903743,\n",
       " 68.625,\n",
       " 75.20579268292683,\n",
       " 75.09666418466128,\n",
       " 163.27270290394657,\n",
       " 27.418675309193972,\n",
       " 93.54702727551336,\n",
       " 18.16659777424465,\n",
       " 19.42339595887966,\n",
       " 1.8117443868739205,\n",
       " 1.6186214476369918,\n",
       " 1.7206782854451248,\n",
       " 1.7398335688491129,\n",
       " 1.6178363950384675,\n",
       " 346.5003145643284,\n",
       " 0.9741530724213614,\n",
       " 0.8487446964155095,\n",
       " 0.7379039868324804,\n",
       " 0.38520487589954555,\n",
       " 0.35041856366573654]"
      ]
     },
     "execution_count": 57,
     "metadata": {},
     "output_type": "execute_result"
    }
   ],
   "source": [
    "mean"
   ]
  },
  {
   "cell_type": "markdown",
   "metadata": {},
   "source": [
    "### Mean value for columns WITH NaN values removed from the DF"
   ]
  },
  {
   "cell_type": "code",
   "execution_count": 58,
   "metadata": {},
   "outputs": [],
   "source": [
    "df_dropped = df_merged2.dropna(how='any')"
   ]
  },
  {
   "cell_type": "code",
   "execution_count": 59,
   "metadata": {},
   "outputs": [
    {
     "name": "stdout",
     "output_type": "stream",
     "text": [
      "<class 'pandas.core.frame.DataFrame'>\n",
      "Int64Index: 4423 entries, 2 to 10147\n",
      "Data columns (total 24 columns):\n",
      " #   Column                          Non-Null Count  Dtype  \n",
      "---  ------                          --------------  -----  \n",
      " 0   SEQN                            4423 non-null   float64\n",
      " 1   Age                             4423 non-null   float64\n",
      " 2   Gender                          4423 non-null   float64\n",
      " 3   Race                            4423 non-null   float64\n",
      " 4   Systolic BP                     4423 non-null   float64\n",
      " 5   Diastolic BP                    4423 non-null   float64\n",
      " 6   Resting HR                      4423 non-null   float64\n",
      " 7   Weight                          4423 non-null   float64\n",
      " 8   Height                          4423 non-null   float64\n",
      " 9   BMI                             4423 non-null   float64\n",
      " 10  Waist Circumference             4423 non-null   float64\n",
      " 11  Tricep Skinfold                 4423 non-null   float64\n",
      " 12  Subscap Skinfold                4423 non-null   float64\n",
      " 13  Vigorous work activity          4423 non-null   float64\n",
      " 14  Moderate work activity          4423 non-null   float64\n",
      " 15  Walk or bicycle                 4423 non-null   float64\n",
      " 16  Vigorous recreational activity  4423 non-null   float64\n",
      " 17  Moderate recreational activity  4423 non-null   float64\n",
      " 18  Minutes sedentary               4423 non-null   float64\n",
      " 19  Femur BMD                       4423 non-null   float64\n",
      " 20  Femoral Neck BMD                4423 non-null   float64\n",
      " 21  Trochanter BMD                  4423 non-null   float64\n",
      " 22  LBXCRP                          4423 non-null   float64\n",
      " 23  NA                              4423 non-null   float64\n",
      "dtypes: float64(24)\n",
      "memory usage: 863.9 KB\n"
     ]
    }
   ],
   "source": [
    "df_dropped.info()"
   ]
  },
  {
   "cell_type": "code",
   "execution_count": 60,
   "metadata": {},
   "outputs": [],
   "source": [
    "mean_dropped = [df_dropped[name].mean() for name in df_dropped.columns]"
   ]
  },
  {
   "cell_type": "code",
   "execution_count": 61,
   "metadata": {},
   "outputs": [
    {
     "data": {
      "text/plain": [
       "[46581.75559574949,\n",
       " 43.7890572009948,\n",
       " 1.4725299570427313,\n",
       " 2.7700655663576756,\n",
       " 122.1537418042053,\n",
       " 68.3495365136785,\n",
       " 72.85869319466426,\n",
       " 74.11921772552576,\n",
       " 167.3822292561614,\n",
       " 26.333651367849843,\n",
       " 92.2018313361974,\n",
       " 17.502193081618756,\n",
       " 19.95394528600487,\n",
       " 1.8017182907528826,\n",
       " 1.5939407641872032,\n",
       " 1.7022382997965182,\n",
       " 1.6981686638028488,\n",
       " 1.5882884919737734,\n",
       " 343.92900746099934,\n",
       " 0.9640782274474313,\n",
       " 0.8402136558896676,\n",
       " 0.7316545331223159,\n",
       " 0.3154736604114797,\n",
       " 0.0]"
      ]
     },
     "execution_count": 61,
     "metadata": {},
     "output_type": "execute_result"
    }
   ],
   "source": [
    "mean_dropped"
   ]
  },
  {
   "cell_type": "markdown",
   "metadata": {},
   "source": [
    "### Percent change in the mean for each column value when all NaN values are removed from the DF"
   ]
  },
  {
   "cell_type": "code",
   "execution_count": 62,
   "metadata": {},
   "outputs": [
    {
     "data": {
      "text/plain": [
       "[0.07654178227272351,\n",
       " 3.2155150505151426,\n",
       " -1.7399404399847465,\n",
       " -0.6354628525476134,\n",
       " -0.9804863471220073,\n",
       " -0.4014039873537324,\n",
       " -3.120902532279816,\n",
       " -1.301584390928469,\n",
       " 2.516970858645285,\n",
       " -3.957244210774477,\n",
       " -1.437988975698934,\n",
       " -3.657287406714321,\n",
       " 2.7314962236697005,\n",
       " -0.5533946286063809,\n",
       " -1.5247965165554702,\n",
       " -1.0716695738295052,\n",
       " -2.3947638321420084,\n",
       " -1.8263838763493487,\n",
       " -0.7420792984162442,\n",
       " -1.0342157982305566,\n",
       " -1.0051362396573413,\n",
       " -0.8469196293396982,\n",
       " -18.102370933188944,\n",
       " -100.0]"
      ]
     },
     "execution_count": 62,
     "metadata": {},
     "output_type": "execute_result"
    }
   ],
   "source": [
    "list(((np.array(mean_dropped) - np.array(mean))/np.array(mean))*100)"
   ]
  },
  {
   "cell_type": "code",
   "execution_count": 63,
   "metadata": {},
   "outputs": [
    {
     "data": {
      "text/html": [
       "<div>\n",
       "<style scoped>\n",
       "    .dataframe tbody tr th:only-of-type {\n",
       "        vertical-align: middle;\n",
       "    }\n",
       "\n",
       "    .dataframe tbody tr th {\n",
       "        vertical-align: top;\n",
       "    }\n",
       "\n",
       "    .dataframe thead th {\n",
       "        text-align: right;\n",
       "    }\n",
       "</style>\n",
       "<table border=\"1\" class=\"dataframe\">\n",
       "  <thead>\n",
       "    <tr style=\"text-align: right;\">\n",
       "      <th>NA</th>\n",
       "      <th>0.0</th>\n",
       "      <th>1.0</th>\n",
       "    </tr>\n",
       "  </thead>\n",
       "  <tbody>\n",
       "    <tr>\n",
       "      <th>SEQN</th>\n",
       "      <td>46581.755596</td>\n",
       "      <td>46480.085080</td>\n",
       "    </tr>\n",
       "    <tr>\n",
       "      <th>Age</th>\n",
       "      <td>43.789057</td>\n",
       "      <td>39.896060</td>\n",
       "    </tr>\n",
       "    <tr>\n",
       "      <th>Gender</th>\n",
       "      <td>1.472530</td>\n",
       "      <td>1.546940</td>\n",
       "    </tr>\n",
       "    <tr>\n",
       "      <th>Race</th>\n",
       "      <td>2.770066</td>\n",
       "      <td>2.820620</td>\n",
       "    </tr>\n",
       "    <tr>\n",
       "      <th>Systolic BP</th>\n",
       "      <td>122.153742</td>\n",
       "      <td>126.790519</td>\n",
       "    </tr>\n",
       "    <tr>\n",
       "      <th>Diastolic BP</th>\n",
       "      <td>68.349537</td>\n",
       "      <td>69.405509</td>\n",
       "    </tr>\n",
       "    <tr>\n",
       "      <th>Resting HR</th>\n",
       "      <td>72.858693</td>\n",
       "      <td>80.063641</td>\n",
       "    </tr>\n",
       "    <tr>\n",
       "      <th>Weight</th>\n",
       "      <td>74.119218</td>\n",
       "      <td>76.982897</td>\n",
       "    </tr>\n",
       "    <tr>\n",
       "      <th>Height</th>\n",
       "      <td>167.382229</td>\n",
       "      <td>155.342321</td>\n",
       "    </tr>\n",
       "    <tr>\n",
       "      <th>BMI</th>\n",
       "      <td>26.333651</td>\n",
       "      <td>29.516167</td>\n",
       "    </tr>\n",
       "    <tr>\n",
       "      <th>Waist Circumference</th>\n",
       "      <td>92.201831</td>\n",
       "      <td>96.376224</td>\n",
       "    </tr>\n",
       "    <tr>\n",
       "      <th>Tricep Skinfold</th>\n",
       "      <td>17.502193</td>\n",
       "      <td>19.740600</td>\n",
       "    </tr>\n",
       "    <tr>\n",
       "      <th>Subscap Skinfold</th>\n",
       "      <td>19.953945</td>\n",
       "      <td>17.498359</td>\n",
       "    </tr>\n",
       "    <tr>\n",
       "      <th>Vigorous work activity</th>\n",
       "      <td>1.801718</td>\n",
       "      <td>1.834532</td>\n",
       "    </tr>\n",
       "    <tr>\n",
       "      <th>Moderate work activity</th>\n",
       "      <td>1.593941</td>\n",
       "      <td>1.674717</td>\n",
       "    </tr>\n",
       "    <tr>\n",
       "      <th>Walk or bicycle</th>\n",
       "      <td>1.702238</td>\n",
       "      <td>1.762590</td>\n",
       "    </tr>\n",
       "    <tr>\n",
       "      <th>Vigorous recreational activity</th>\n",
       "      <td>1.698169</td>\n",
       "      <td>1.834532</td>\n",
       "    </tr>\n",
       "    <tr>\n",
       "      <th>Moderate recreational activity</th>\n",
       "      <td>1.588288</td>\n",
       "      <td>1.684995</td>\n",
       "    </tr>\n",
       "    <tr>\n",
       "      <th>Minutes sedentary</th>\n",
       "      <td>343.929007</td>\n",
       "      <td>352.377778</td>\n",
       "    </tr>\n",
       "    <tr>\n",
       "      <th>Femur BMD</th>\n",
       "      <td>0.964078</td>\n",
       "      <td>1.016795</td>\n",
       "    </tr>\n",
       "    <tr>\n",
       "      <th>Femoral Neck BMD</th>\n",
       "      <td>0.840214</td>\n",
       "      <td>0.884853</td>\n",
       "    </tr>\n",
       "    <tr>\n",
       "      <th>Trochanter BMD</th>\n",
       "      <td>0.731655</td>\n",
       "      <td>0.764355</td>\n",
       "    </tr>\n",
       "    <tr>\n",
       "      <th>LBXCRP</th>\n",
       "      <td>0.315474</td>\n",
       "      <td>0.514468</td>\n",
       "    </tr>\n",
       "  </tbody>\n",
       "</table>\n",
       "</div>"
      ],
      "text/plain": [
       "NA                                       0.0           1.0\n",
       "SEQN                            46581.755596  46480.085080\n",
       "Age                                43.789057     39.896060\n",
       "Gender                              1.472530      1.546940\n",
       "Race                                2.770066      2.820620\n",
       "Systolic BP                       122.153742    126.790519\n",
       "Diastolic BP                       68.349537     69.405509\n",
       "Resting HR                         72.858693     80.063641\n",
       "Weight                             74.119218     76.982897\n",
       "Height                            167.382229    155.342321\n",
       "BMI                                26.333651     29.516167\n",
       "Waist Circumference                92.201831     96.376224\n",
       "Tricep Skinfold                    17.502193     19.740600\n",
       "Subscap Skinfold                   19.953945     17.498359\n",
       "Vigorous work activity              1.801718      1.834532\n",
       "Moderate work activity              1.593941      1.674717\n",
       "Walk or bicycle                     1.702238      1.762590\n",
       "Vigorous recreational activity      1.698169      1.834532\n",
       "Moderate recreational activity      1.588288      1.684995\n",
       "Minutes sedentary                 343.929007    352.377778\n",
       "Femur BMD                           0.964078      1.016795\n",
       "Femoral Neck BMD                    0.840214      0.884853\n",
       "Trochanter BMD                      0.731655      0.764355\n",
       "LBXCRP                              0.315474      0.514468"
      ]
     },
     "execution_count": 63,
     "metadata": {},
     "output_type": "execute_result"
    }
   ],
   "source": [
    "df_merged2.groupby('NA').mean().T"
   ]
  },
  {
   "cell_type": "code",
   "execution_count": 64,
   "metadata": {},
   "outputs": [],
   "source": [
    "df_dropped = df_merged2[df_merged2['LBXCRP'].apply(lambda x: x==x)]"
   ]
  },
  {
   "cell_type": "code",
   "execution_count": 65,
   "metadata": {},
   "outputs": [
    {
     "name": "stdout",
     "output_type": "stream",
     "text": [
      "SEQN\n",
      "average na:  nan\n",
      "average notna:  0.38520487589954555\n",
      "difference:  nan\n",
      "percent missing:  0.0\n",
      "significance:  Ttest_indResult(statistic=nan, pvalue=nan)\n",
      "Age\n",
      "average na:  nan\n",
      "average notna:  0.38520487589954555\n",
      "difference:  nan\n",
      "percent missing:  0.0\n",
      "significance:  Ttest_indResult(statistic=nan, pvalue=nan)\n",
      "Gender\n",
      "average na:  nan\n",
      "average notna:  0.38520487589954555\n",
      "difference:  nan\n",
      "percent missing:  0.0\n",
      "significance:  Ttest_indResult(statistic=nan, pvalue=nan)\n",
      "Race\n",
      "average na:  nan\n",
      "average notna:  0.38520487589954555\n",
      "difference:  nan\n",
      "percent missing:  0.0\n",
      "significance:  Ttest_indResult(statistic=nan, pvalue=nan)\n",
      "Systolic BP\n",
      "average na:  0.3321818181818177\n",
      "average notna:  0.3925150401069494\n",
      "difference:  0.060333221925131686\n",
      "percent missing:  0.12116316639741519\n",
      "significance:  Ttest_indResult(statistic=1.998930255610412, pvalue=0.0456555914416752)\n",
      "Diastolic BP\n",
      "average na:  0.3321818181818177\n",
      "average notna:  0.3925150401069494\n",
      "difference:  0.060333221925131686\n",
      "percent missing:  0.12116316639741519\n",
      "significance:  Ttest_indResult(statistic=1.998930255610412, pvalue=0.0456555914416752)\n",
      "Resting HR\n",
      "average na:  0.44269076305220884\n",
      "average notna:  0.38302286585365775\n",
      "difference:  -0.05966789719855109\n",
      "percent missing:  0.03656924658540167\n",
      "significance:  Ttest_indResult(statistic=-1.1369058037302902, pvalue=0.2556176856444103)\n",
      "Weight\n",
      "average na:  0.697127659574468\n",
      "average notna:  0.3808384214445273\n",
      "difference:  -0.3162892381299407\n",
      "percent missing:  0.013805257747099427\n",
      "significance:  Ttest_indResult(statistic=-3.749819598689256, pvalue=0.00017842963361801935)\n",
      "Height\n",
      "average na:  0.6884042553191487\n",
      "average notna:  0.3809605361131795\n",
      "difference:  -0.30744371920596925\n",
      "percent missing:  0.013805257747099427\n",
      "significance:  Ttest_indResult(statistic=-3.6447424725153788, pvalue=0.00026965446335299153)\n",
      "BMI\n",
      "average na:  0.6992857142857144\n",
      "average notna:  0.3806183877216511\n",
      "difference:  -0.3186673265640633\n",
      "percent missing:  0.014392715523571744\n",
      "significance:  Ttest_indResult(statistic=-3.8566398404020505, pvalue=0.00011601661013497842)\n",
      "Waist Circumference\n",
      "average na:  0.5802473498233218\n",
      "average notna:  0.3767468587189693\n",
      "difference:  -0.20350049110435253\n",
      "percent missing:  0.04156263768541636\n",
      "significance:  Ttest_indResult(statistic=-4.127774862497266, pvalue=3.706641441761658e-05)\n",
      "Tricep Skinfold\n",
      "average na:  0.7922350674373793\n",
      "average notna:  0.3516200317964978\n",
      "difference:  -0.44061503564088145\n",
      "percent missing:  0.07622264649728301\n",
      "significance:  Ttest_indResult(statistic=-11.992208533267107, pvalue=8.342559079405229e-33)\n",
      "Subscap Skinfold\n",
      "average na:  0.6423993144815757\n",
      "average notna:  0.3320063807160506\n",
      "difference:  -0.3103929337655251\n",
      "percent missing:  0.1713908062857982\n",
      "significance:  Ttest_indResult(statistic=-11.997721699695251, pvalue=7.815935784444023e-33)\n",
      "Vigorous work activity\n",
      "average na:  0.17038636363636386\n",
      "average notna:  0.4000455330507139\n",
      "difference:  0.22965916941435002\n",
      "percent missing:  0.06462035541195477\n",
      "significance:  Ttest_indResult(statistic=5.7449598924720595, pvalue=9.591219605733958e-09)\n",
      "Moderate work activity\n",
      "average na:  0.17038636363636386\n",
      "average notna:  0.4000455330507139\n",
      "difference:  0.22965916941435002\n",
      "percent missing:  0.06462035541195477\n",
      "significance:  Ttest_indResult(statistic=5.7449598924720595, pvalue=9.591219605733958e-09)\n",
      "Walk or bicycle\n",
      "average na:  0.17038636363636386\n",
      "average notna:  0.4000455330507139\n",
      "difference:  0.22965916941435002\n",
      "percent missing:  0.06462035541195477\n",
      "significance:  Ttest_indResult(statistic=5.7449598924720595, pvalue=9.591219605733958e-09)\n",
      "Vigorous recreational activity\n",
      "average na:  0.17038636363636386\n",
      "average notna:  0.4000455330507139\n",
      "difference:  0.22965916941435002\n",
      "percent missing:  0.06462035541195477\n",
      "significance:  Ttest_indResult(statistic=5.7449598924720595, pvalue=9.591219605733958e-09)\n",
      "Moderate recreational activity\n",
      "average na:  0.17038636363636386\n",
      "average notna:  0.4000455330507139\n",
      "difference:  0.22965916941435002\n",
      "percent missing:  0.06462035541195477\n",
      "significance:  Ttest_indResult(statistic=5.7449598924720595, pvalue=9.591219605733958e-09)\n",
      "Minutes sedentary\n",
      "average na:  0.17257206208425743\n",
      "average notna:  0.4002878263604901\n",
      "difference:  0.22771576427623266\n",
      "percent missing:  0.06623586429725363\n",
      "significance:  Ttest_indResult(statistic=5.762211307089801, pvalue=8.66459879828624e-09)\n",
      "Femur BMD\n",
      "average na:  0.45920208799403234\n",
      "average notna:  0.36705742501828176\n",
      "difference:  -0.09214466297575058\n",
      "percent missing:  0.19694521956234395\n",
      "significance:  Ttest_indResult(statistic=-3.723330174042997, pvalue=0.00019819990866003917)\n",
      "Femoral Neck BMD\n",
      "average na:  0.45920208799403234\n",
      "average notna:  0.36705742501828176\n",
      "difference:  -0.09214466297575058\n",
      "percent missing:  0.19694521956234395\n",
      "significance:  Ttest_indResult(statistic=-3.723330174042997, pvalue=0.00019819990866003917)\n",
      "Trochanter BMD\n",
      "average na:  0.45920208799403234\n",
      "average notna:  0.36705742501828176\n",
      "difference:  -0.09214466297575058\n",
      "percent missing:  0.19694521956234395\n",
      "significance:  Ttest_indResult(statistic=-3.723330174042997, pvalue=0.00019819990866003917)\n",
      "LBXCRP\n",
      "average na:  nan\n",
      "average notna:  0.38520487589954555\n",
      "difference:  nan\n",
      "percent missing:  0.0\n",
      "significance:  Ttest_indResult(statistic=nan, pvalue=nan)\n",
      "NA\n",
      "average na:  nan\n",
      "average notna:  0.38520487589954555\n",
      "difference:  nan\n",
      "percent missing:  0.0\n",
      "significance:  Ttest_indResult(statistic=nan, pvalue=nan)\n"
     ]
    }
   ],
   "source": [
    "from scipy.stats import ttest_ind\n",
    "for col in df_dropped.columns:\n",
    "    tempna = df_dropped[df_dropped[col].apply(lambda x: x != x)]\n",
    "    tempnotna = df_dropped[df_dropped[col].apply(lambda x: x == x)]\n",
    "    difference = tempnotna['LBXCRP'].mean() - tempna['LBXCRP'].mean()\n",
    "    print(col)\n",
    "    print (\"average na: \", tempna['LBXCRP'].mean())\n",
    "    print (\"average notna: \", tempnotna['LBXCRP'].mean())\n",
    "    print(\"difference: \", difference)\n",
    "    print(\"percent missing: \", len(tempna)/len(df_dropped))\n",
    "    print('significance: ', ttest_ind(tempnotna['LBXCRP'],  tempna['LBXCRP']))"
   ]
  },
  {
   "cell_type": "markdown",
   "metadata": {},
   "source": [
    "A few notes for me...in the lambda function that Ben coded for me, the use of lambda x: x!=x for a NaN value will always true because CPython follows the IEEE 754 standard for floating point math. NaN is a floating point value for which IEEE 754 dictates that it is not equal to any other floating point value"
   ]
  },
  {
   "cell_type": "code",
   "execution_count": 66,
   "metadata": {},
   "outputs": [
    {
     "name": "stdout",
     "output_type": "stream",
     "text": [
      "<class 'pandas.core.frame.DataFrame'>\n",
      "Int64Index: 6809 entries, 0 to 10148\n",
      "Data columns (total 24 columns):\n",
      " #   Column                          Non-Null Count  Dtype  \n",
      "---  ------                          --------------  -----  \n",
      " 0   SEQN                            6809 non-null   float64\n",
      " 1   Age                             6809 non-null   float64\n",
      " 2   Gender                          6809 non-null   float64\n",
      " 3   Race                            6809 non-null   float64\n",
      " 4   Systolic BP                     5984 non-null   float64\n",
      " 5   Diastolic BP                    5984 non-null   float64\n",
      " 6   Resting HR                      6560 non-null   float64\n",
      " 7   Weight                          6715 non-null   float64\n",
      " 8   Height                          6715 non-null   float64\n",
      " 9   BMI                             6711 non-null   float64\n",
      " 10  Waist Circumference             6526 non-null   float64\n",
      " 11  Tricep Skinfold                 6290 non-null   float64\n",
      " 12  Subscap Skinfold                5642 non-null   float64\n",
      " 13  Vigorous work activity          6369 non-null   float64\n",
      " 14  Moderate work activity          6369 non-null   float64\n",
      " 15  Walk or bicycle                 6369 non-null   float64\n",
      " 16  Vigorous recreational activity  6369 non-null   float64\n",
      " 17  Moderate recreational activity  6369 non-null   float64\n",
      " 18  Minutes sedentary               6358 non-null   float64\n",
      " 19  Femur BMD                       5468 non-null   float64\n",
      " 20  Femoral Neck BMD                5468 non-null   float64\n",
      " 21  Trochanter BMD                  5468 non-null   float64\n",
      " 22  LBXCRP                          6809 non-null   float64\n",
      " 23  NA                              6809 non-null   float64\n",
      "dtypes: float64(24)\n",
      "memory usage: 1.3 MB\n"
     ]
    }
   ],
   "source": [
    "df_dropped.info()"
   ]
  },
  {
   "cell_type": "code",
   "execution_count": 67,
   "metadata": {},
   "outputs": [],
   "source": [
    "import missingno as msno"
   ]
  },
  {
   "cell_type": "code",
   "execution_count": 68,
   "metadata": {},
   "outputs": [
    {
     "data": {
      "text/plain": [
       "<matplotlib.axes._subplots.AxesSubplot at 0x1a1fb649d0>"
      ]
     },
     "execution_count": 68,
     "metadata": {},
     "output_type": "execute_result"
    },
    {
     "data": {
      "image/png": "[encoded data removed]",
      "text/plain": [
       "<Figure size 1800x720 with 2 Axes>"
      ]
     },
     "metadata": {
      "needs_background": "light"
     },
     "output_type": "display_data"
    }
   ],
   "source": [
    "msno.matrix(df_merged)"
   ]
  },
  {
   "cell_type": "code",
   "execution_count": 69,
   "metadata": {},
   "outputs": [
    {
     "name": "stdout",
     "output_type": "stream",
     "text": [
      "<class 'pandas.core.frame.DataFrame'>\n",
      "Int64Index: 6809 entries, 0 to 10148\n",
      "Data columns (total 24 columns):\n",
      " #   Column                          Non-Null Count  Dtype  \n",
      "---  ------                          --------------  -----  \n",
      " 0   SEQN                            6809 non-null   float64\n",
      " 1   Age                             6809 non-null   float64\n",
      " 2   Gender                          6809 non-null   float64\n",
      " 3   Race                            6809 non-null   float64\n",
      " 4   Systolic BP                     5984 non-null   float64\n",
      " 5   Diastolic BP                    5984 non-null   float64\n",
      " 6   Resting HR                      6560 non-null   float64\n",
      " 7   Weight                          6715 non-null   float64\n",
      " 8   Height                          6715 non-null   float64\n",
      " 9   BMI                             6711 non-null   float64\n",
      " 10  Waist Circumference             6526 non-null   float64\n",
      " 11  Tricep Skinfold                 6290 non-null   float64\n",
      " 12  Subscap Skinfold                5642 non-null   float64\n",
      " 13  Vigorous work activity          6369 non-null   float64\n",
      " 14  Moderate work activity          6369 non-null   float64\n",
      " 15  Walk or bicycle                 6369 non-null   float64\n",
      " 16  Vigorous recreational activity  6369 non-null   float64\n",
      " 17  Moderate recreational activity  6369 non-null   float64\n",
      " 18  Minutes sedentary               6358 non-null   float64\n",
      " 19  Femur BMD                       5468 non-null   float64\n",
      " 20  Femoral Neck BMD                5468 non-null   float64\n",
      " 21  Trochanter BMD                  5468 non-null   float64\n",
      " 22  LBXCRP                          6809 non-null   float64\n",
      " 23  NA                              6809 non-null   float64\n",
      "dtypes: float64(24)\n",
      "memory usage: 1.3 MB\n"
     ]
    }
   ],
   "source": [
    "df_merged2.info()"
   ]
  },
  {
   "cell_type": "code",
   "execution_count": 70,
   "metadata": {},
   "outputs": [],
   "source": [
    "# from sklearn.impute import KNNImputer\n",
    "# X = df_merged2.drop(['LBXCRP', 'NA', 'SEQN'], axis=1)\n",
    "# imputer = KNNImputer(n_neighbors=2, weights=\"uniform\")\n",
    "# imputer.fit_transform(X)"
   ]
  },
  {
   "cell_type": "code",
   "execution_count": 71,
   "metadata": {},
   "outputs": [
    {
     "data": {
      "text/plain": [
       "count    6809.000000\n",
       "mean       75.129079\n",
       "std        25.025529\n",
       "min        11.800000\n",
       "25%        61.300000\n",
       "50%        74.600000\n",
       "75%        89.200000\n",
       "max       218.200000\n",
       "Name: Weight, dtype: float64"
      ]
     },
     "execution_count": 71,
     "metadata": {},
     "output_type": "execute_result"
    }
   ],
   "source": [
    "df_merged2['Weight'].interpolate(methode='linear').describe()"
   ]
  },
  {
   "cell_type": "code",
   "execution_count": 72,
   "metadata": {},
   "outputs": [
    {
     "data": {
      "text/plain": [
       "count    6715.000000\n",
       "mean       75.096664\n",
       "std        25.106920\n",
       "min        11.800000\n",
       "25%        61.100000\n",
       "50%        74.500000\n",
       "75%        89.200000\n",
       "max       218.200000\n",
       "Name: Weight, dtype: float64"
      ]
     },
     "execution_count": 72,
     "metadata": {},
     "output_type": "execute_result"
    }
   ],
   "source": [
    "df_merged2['Weight'].describe()"
   ]
  },
  {
   "cell_type": "code",
   "execution_count": 73,
   "metadata": {},
   "outputs": [
    {
     "ename": "NameError",
     "evalue": "name 'M' is not defined",
     "output_type": "error",
     "traceback": [
      "\u001b[0;31m---------------------------------------------------------------------------\u001b[0m",
      "\u001b[0;31mNameError\u001b[0m                                 Traceback (most recent call last)",
      "\u001b[0;32m<ipython-input-73-7ddfb4eb00c6>\u001b[0m in \u001b[0;36m<module>\u001b[0;34m\u001b[0m\n\u001b[0;32m----> 1\u001b[0;31m \u001b[0;34m(\u001b[0m\u001b[0;34m(\u001b[0m\u001b[0mM\u001b[0m \u001b[0;34m-\u001b[0m \u001b[0mM_interp\u001b[0m\u001b[0;34m)\u001b[0m\u001b[0;34m/\u001b[0m\u001b[0mM_interp\u001b[0m\u001b[0;34m)\u001b[0m\u001b[0;34m*\u001b[0m\u001b[0;36m100\u001b[0m\u001b[0;34m\u001b[0m\u001b[0;34m\u001b[0m\u001b[0m\n\u001b[0m",
      "\u001b[0;31mNameError\u001b[0m: name 'M' is not defined"
     ]
    }
   ],
   "source": [
    "((M - M_interp)/M_interp)*100"
   ]
  },
  {
   "cell_type": "code",
   "execution_count": 74,
   "metadata": {},
   "outputs": [
    {
     "name": "stdout",
     "output_type": "stream",
     "text": [
      "<class 'pandas.core.frame.DataFrame'>\n",
      "Int64Index: 10149 entries, 0 to 10148\n",
      "Data columns (total 23 columns):\n",
      " #   Column                          Non-Null Count  Dtype  \n",
      "---  ------                          --------------  -----  \n",
      " 0   SEQN                            10149 non-null  int64  \n",
      " 1   Age                             10149 non-null  int64  \n",
      " 2   Gender                          10149 non-null  int64  \n",
      " 3   Race                            10149 non-null  int64  \n",
      " 4   Systolic BP                     7147 non-null   object \n",
      " 5   Diastolic BP                    7147 non-null   object \n",
      " 6   Resting HR                      9377 non-null   object \n",
      " 7   Weight                          9631 non-null   object \n",
      " 8   Height                          8873 non-null   object \n",
      " 9   BMI                             8898 non-null   object \n",
      " 10  Waist Circumference             8538 non-null   object \n",
      " 11  Tricep Skinfold                 8944 non-null   object \n",
      " 12  Subscap Skinfold                8213 non-null   object \n",
      " 13  Vigorous work activity          7105 non-null   object \n",
      " 14  Moderate work activity          7105 non-null   object \n",
      " 15  Walk or bicycle                 7105 non-null   object \n",
      " 16  Vigorous recreational activity  7105 non-null   object \n",
      " 17  Moderate recreational activity  7105 non-null   object \n",
      " 18  Minutes sedentary               7091 non-null   object \n",
      " 19  Femur BMD                       6517 non-null   object \n",
      " 20  Femoral Neck BMD                6517 non-null   float64\n",
      " 21  Trochanter BMD                  6517 non-null   object \n",
      " 22  LBXCRP                          6809 non-null   object \n",
      "dtypes: float64(1), int64(4), object(18)\n",
      "memory usage: 1.9+ MB\n"
     ]
    }
   ],
   "source": [
    "df_merged.info()"
   ]
  },
  {
   "cell_type": "code",
   "execution_count": 75,
   "metadata": {},
   "outputs": [
    {
     "name": "stdout",
     "output_type": "stream",
     "text": [
      "<class 'pandas.core.frame.DataFrame'>\n",
      "Int64Index: 6809 entries, 0 to 10148\n",
      "Data columns (total 24 columns):\n",
      " #   Column                          Non-Null Count  Dtype  \n",
      "---  ------                          --------------  -----  \n",
      " 0   SEQN                            6809 non-null   float64\n",
      " 1   Age                             6809 non-null   float64\n",
      " 2   Gender                          6809 non-null   float64\n",
      " 3   Race                            6809 non-null   float64\n",
      " 4   Systolic BP                     5984 non-null   float64\n",
      " 5   Diastolic BP                    5984 non-null   float64\n",
      " 6   Resting HR                      6560 non-null   float64\n",
      " 7   Weight                          6715 non-null   float64\n",
      " 8   Height                          6715 non-null   float64\n",
      " 9   BMI                             6711 non-null   float64\n",
      " 10  Waist Circumference             6526 non-null   float64\n",
      " 11  Tricep Skinfold                 6290 non-null   float64\n",
      " 12  Subscap Skinfold                5642 non-null   float64\n",
      " 13  Vigorous work activity          6369 non-null   float64\n",
      " 14  Moderate work activity          6369 non-null   float64\n",
      " 15  Walk or bicycle                 6369 non-null   float64\n",
      " 16  Vigorous recreational activity  6369 non-null   float64\n",
      " 17  Moderate recreational activity  6369 non-null   float64\n",
      " 18  Minutes sedentary               6358 non-null   float64\n",
      " 19  Femur BMD                       5468 non-null   float64\n",
      " 20  Femoral Neck BMD                5468 non-null   float64\n",
      " 21  Trochanter BMD                  5468 non-null   float64\n",
      " 22  LBXCRP                          6809 non-null   float64\n",
      " 23  NA                              6809 non-null   float64\n",
      "dtypes: float64(24)\n",
      "memory usage: 1.3 MB\n"
     ]
    }
   ],
   "source": [
    "df_merged2.info()"
   ]
  },
  {
   "cell_type": "code",
   "execution_count": 76,
   "metadata": {},
   "outputs": [
    {
     "name": "stdout",
     "output_type": "stream",
     "text": [
      "<class 'pandas.core.frame.DataFrame'>\n",
      "Int64Index: 6809 entries, 0 to 10148\n",
      "Data columns (total 24 columns):\n",
      " #   Column                          Non-Null Count  Dtype  \n",
      "---  ------                          --------------  -----  \n",
      " 0   SEQN                            6809 non-null   float64\n",
      " 1   Age                             6809 non-null   float64\n",
      " 2   Gender                          6809 non-null   float64\n",
      " 3   Race                            6809 non-null   float64\n",
      " 4   Systolic BP                     5984 non-null   float64\n",
      " 5   Diastolic BP                    5984 non-null   float64\n",
      " 6   Resting HR                      6560 non-null   float64\n",
      " 7   Weight                          6715 non-null   float64\n",
      " 8   Height                          6715 non-null   float64\n",
      " 9   BMI                             6711 non-null   float64\n",
      " 10  Waist Circumference             6526 non-null   float64\n",
      " 11  Tricep Skinfold                 6290 non-null   float64\n",
      " 12  Subscap Skinfold                5642 non-null   float64\n",
      " 13  Vigorous work activity          6369 non-null   float64\n",
      " 14  Moderate work activity          6369 non-null   float64\n",
      " 15  Walk or bicycle                 6369 non-null   float64\n",
      " 16  Vigorous recreational activity  6369 non-null   float64\n",
      " 17  Moderate recreational activity  6369 non-null   float64\n",
      " 18  Minutes sedentary               6358 non-null   float64\n",
      " 19  Femur BMD                       5468 non-null   float64\n",
      " 20  Femoral Neck BMD                5468 non-null   float64\n",
      " 21  Trochanter BMD                  5468 non-null   float64\n",
      " 22  LBXCRP                          6809 non-null   float64\n",
      " 23  NA                              6809 non-null   float64\n",
      "dtypes: float64(24)\n",
      "memory usage: 1.3 MB\n"
     ]
    }
   ],
   "source": [
    "df_dropped.info()"
   ]
  },
  {
   "cell_type": "code",
   "execution_count": 77,
   "metadata": {},
   "outputs": [],
   "source": [
    "df_merged = df_merged.astype(float)"
   ]
  },
  {
   "cell_type": "markdown",
   "metadata": {},
   "source": [
    "Making a boxplot for the below loop is proving to be a pain in the ass.  I can create a seaborn boxplot but when it runs the loop they all get mashed together into an unreadable pile of shit.  If i try using matplotlib instead it freaks out at the NaN values and throws a bunch of runtime errors.  All I want to do is generate 2 boxplots for each feature comparing how NaN values in that feature effect the values for LBXCRP (with NaN values in-tact and with them removed)"
   ]
  },
  {
   "cell_type": "code",
   "execution_count": 78,
   "metadata": {
    "scrolled": false
   },
   "outputs": [
    {
     "name": "stdout",
     "output_type": "stream",
     "text": [
      "SEQN\n",
      "average na:  nan\n",
      "average notna:  0.38520487589954555\n",
      "difference:  nan\n",
      "percent missing:  0.0\n",
      "significance:  Ttest_indResult(statistic=nan, pvalue=nan)\n",
      "Age\n",
      "average na:  nan\n",
      "average notna:  0.38520487589954555\n",
      "difference:  nan\n",
      "percent missing:  0.0\n",
      "significance:  Ttest_indResult(statistic=nan, pvalue=nan)\n",
      "Gender\n",
      "average na:  nan\n",
      "average notna:  0.38520487589954555\n",
      "difference:  nan\n",
      "percent missing:  0.0\n",
      "significance:  Ttest_indResult(statistic=nan, pvalue=nan)\n",
      "Race\n",
      "average na:  nan\n",
      "average notna:  0.38520487589954555\n",
      "difference:  nan\n",
      "percent missing:  0.0\n",
      "significance:  Ttest_indResult(statistic=nan, pvalue=nan)\n",
      "Systolic BP\n",
      "average na:  0.3321818181818177\n",
      "average notna:  0.3925150401069494\n",
      "difference:  0.060333221925131686\n",
      "percent missing:  29.579268893487043\n",
      "significance:  Ttest_indResult(statistic=nan, pvalue=nan)\n",
      "Diastolic BP\n",
      "average na:  0.3321818181818177\n",
      "average notna:  0.3925150401069494\n",
      "difference:  0.060333221925131686\n",
      "percent missing:  29.579268893487043\n",
      "significance:  Ttest_indResult(statistic=nan, pvalue=nan)\n",
      "Resting HR\n",
      "average na:  0.44269076305220884\n",
      "average notna:  0.38302286585365775\n",
      "difference:  -0.05966789719855109\n",
      "percent missing:  7.606660754754163\n",
      "significance:  Ttest_indResult(statistic=nan, pvalue=nan)\n",
      "Weight\n",
      "average na:  0.697127659574468\n",
      "average notna:  0.3808384214445273\n",
      "difference:  -0.3162892381299407\n",
      "percent missing:  5.103951128189969\n",
      "significance:  Ttest_indResult(statistic=nan, pvalue=nan)\n",
      "Height\n",
      "average na:  0.6884042553191487\n",
      "average notna:  0.3809605361131795\n",
      "difference:  -0.30744371920596925\n",
      "percent missing:  12.572667257857917\n",
      "significance:  Ttest_indResult(statistic=nan, pvalue=nan)\n",
      "BMI\n",
      "average na:  0.6992857142857144\n",
      "average notna:  0.3806183877216511\n",
      "difference:  -0.3186673265640633\n",
      "percent missing:  12.326337570203961\n",
      "significance:  Ttest_indResult(statistic=nan, pvalue=nan)\n",
      "Waist Circumference\n",
      "average na:  0.5802473498233218\n",
      "average notna:  0.3767468587189693\n",
      "difference:  -0.20350049110435253\n",
      "percent missing:  15.873485072420928\n",
      "significance:  Ttest_indResult(statistic=nan, pvalue=nan)\n",
      "Tricep Skinfold\n",
      "average na:  0.7922350674373793\n",
      "average notna:  0.3516200317964978\n",
      "difference:  -0.44061503564088145\n",
      "percent missing:  11.873090944920682\n",
      "significance:  Ttest_indResult(statistic=nan, pvalue=nan)\n",
      "Subscap Skinfold\n",
      "average na:  0.6423993144815757\n",
      "average notna:  0.3320063807160506\n",
      "difference:  -0.3103929337655251\n",
      "percent missing:  19.075771011922356\n",
      "significance:  Ttest_indResult(statistic=nan, pvalue=nan)\n",
      "Vigorous work activity\n",
      "average na:  0.17038636363636386\n",
      "average notna:  0.4000455330507139\n",
      "difference:  0.22965916941435002\n",
      "percent missing:  29.99310276874569\n",
      "significance:  Ttest_indResult(statistic=nan, pvalue=nan)\n",
      "Moderate work activity\n",
      "average na:  0.17038636363636386\n",
      "average notna:  0.4000455330507139\n",
      "difference:  0.22965916941435002\n",
      "percent missing:  29.99310276874569\n",
      "significance:  Ttest_indResult(statistic=nan, pvalue=nan)\n",
      "Walk or bicycle\n",
      "average na:  0.17038636363636386\n",
      "average notna:  0.4000455330507139\n",
      "difference:  0.22965916941435002\n",
      "percent missing:  29.99310276874569\n",
      "significance:  Ttest_indResult(statistic=nan, pvalue=nan)\n",
      "Vigorous recreational activity\n",
      "average na:  0.17038636363636386\n",
      "average notna:  0.4000455330507139\n",
      "difference:  0.22965916941435002\n",
      "percent missing:  29.99310276874569\n",
      "significance:  Ttest_indResult(statistic=nan, pvalue=nan)\n",
      "Moderate recreational activity\n",
      "average na:  0.17038636363636386\n",
      "average notna:  0.4000455330507139\n",
      "difference:  0.22965916941435002\n",
      "percent missing:  29.99310276874569\n",
      "significance:  Ttest_indResult(statistic=nan, pvalue=nan)\n",
      "Minutes sedentary\n",
      "average na:  0.17257206208425743\n",
      "average notna:  0.4002878263604901\n",
      "difference:  0.22771576427623266\n",
      "percent missing:  30.131047393831906\n",
      "significance:  Ttest_indResult(statistic=nan, pvalue=nan)\n",
      "Femur BMD\n",
      "average na:  0.45920208799403234\n",
      "average notna:  0.36705742501828176\n",
      "difference:  -0.09214466297575058\n",
      "percent missing:  35.786777022366735\n",
      "significance:  Ttest_indResult(statistic=nan, pvalue=nan)\n",
      "Femoral Neck BMD\n",
      "average na:  0.45920208799403234\n",
      "average notna:  0.36705742501828176\n",
      "difference:  -0.09214466297575058\n",
      "percent missing:  35.786777022366735\n",
      "significance:  Ttest_indResult(statistic=nan, pvalue=nan)\n",
      "Trochanter BMD\n",
      "average na:  0.45920208799403234\n",
      "average notna:  0.36705742501828176\n",
      "difference:  -0.09214466297575058\n",
      "percent missing:  35.786777022366735\n",
      "significance:  Ttest_indResult(statistic=nan, pvalue=nan)\n",
      "LBXCRP\n",
      "average na:  nan\n",
      "average notna:  0.38520487589954555\n",
      "difference:  nan\n",
      "percent missing:  32.90964627056853\n",
      "significance:  Ttest_indResult(statistic=nan, pvalue=nan)\n"
     ]
    }
   ],
   "source": [
    "for col in df_merged.columns:\n",
    "    #The below code creates a temporary DF where the values for the selected column are NaN\n",
    "    tempna = df_merged[df_merged[col].apply(lambda x: x != x)]\n",
    "    \n",
    "    #This code creates a temporary DF where the values for the selected column are not NaN\n",
    "    tempnotna = df_merged[df_merged[col].apply(lambda x: x == x)]\n",
    "    \n",
    "    #This code looks at the difference in the mean() value of the 'LBXCRP' column for the two \n",
    "    #temporary DF's created above \n",
    "    difference = tempnotna['LBXCRP'].mean() - tempna['LBXCRP'].mean()\n",
    "    \n",
    "    #na.append(tempna['LBXCRP'])\n",
    "    #notna.append(tempnotna['LBXCRP'])\n",
    "    #Print out the column name\n",
    "    print(col)\n",
    "    \n",
    "    #print out the average value of LBXCRP for the above named column where the column is NaN\n",
    "    print (\"average na: \", tempna['LBXCRP'].mean())\n",
    "    \n",
    "    #Print out the average value of LBXCRP for the above named column where the column is not\n",
    "    #NaN\n",
    "    print (\"average notna: \", tempnotna['LBXCRP'].mean())\n",
    "    \n",
    "    #Print the difference in the mean() value of LBXCRP for the above named column between\n",
    "    #where the column is NaN and not NaN\n",
    "    print(\"difference: \", difference)\n",
    "    \n",
    "    #print the percentage of data that is missing if the NaN values for this column are dropped\n",
    "    print(\"percent missing: \", (len(tempna)/len(df_merged))*100)\n",
    "    \n",
    "    print('significance: ', ttest_ind(tempnotna['LBXCRP'],  tempna['LBXCRP']))\n",
    "    "
   ]
  },
  {
   "cell_type": "code",
   "execution_count": null,
   "metadata": {},
   "outputs": [],
   "source": [
    "#The below code creates a temporary DF where the values for the selected column are NaN\n",
    "tempna = df_merged[df_merged['Weight'].apply(lambda x: x != x)]\n",
    "    \n",
    "#This code creates a temporary DF where the values for the selected column are not NaN\n",
    "tempnotna = df_merged[df_merged['Weight'].apply(lambda x: x == x)]"
   ]
  },
  {
   "cell_type": "code",
   "execution_count": null,
   "metadata": {},
   "outputs": [],
   "source": [
    "print('Mean: ', tempnotna['LBXCRP'].mean())\n",
    "print('Min: ', tempnotna['LBXCRP'].min())\n",
    "print('25%: ', tempnotna['LBXCRP'].quantile(0.25))\n",
    "print('50%: ', tempnotna['LBXCRP'].quantile(0.5))\n",
    "print('75%: ', tempnotna['LBXCRP'].quantile(0.75))\n",
    "print('Max: ', tempnotna['LBXCRP'].max())\n",
    "\n",
    "plot = sns.boxplot(tempnotna['LBXCRP'], showfliers=False, width=0.5)"
   ]
  },
  {
   "cell_type": "code",
   "execution_count": null,
   "metadata": {},
   "outputs": [],
   "source": [
    "print('Mean: ', tempna['LBXCRP'].mean())\n",
    "print('Min: ', tempna['LBXCRP'].min())\n",
    "print('25%: ', tempna['LBXCRP'].quantile(0.25))\n",
    "print('50%: ', tempna['LBXCRP'].quantile(0.5))\n",
    "print('75%: ', tempna['LBXCRP'].quantile(0.75))\n",
    "print('Max: ', tempna['LBXCRP'].max())\n",
    "\n",
    "plot = sns.boxplot(tempna['LBXCRP'], showfliers=False, width=0.5)"
   ]
  },
  {
   "cell_type": "markdown",
   "metadata": {},
   "source": [
    "## Boxplot for 'Age':"
   ]
  },
  {
   "cell_type": "code",
   "execution_count": null,
   "metadata": {},
   "outputs": [],
   "source": [
    "#The below code creates a temporary DF where the values for the selected column are NaN\n",
    "tempna_age = df_merged[df_merged['Age'].apply(lambda x: x != x)]\n",
    "    \n",
    "#This code creates a temporary DF where the values for the selected column are not NaN\n",
    "tempnotna_age = df_merged[df_merged['Age'].apply(lambda x: x == x)]"
   ]
  },
  {
   "cell_type": "markdown",
   "metadata": {},
   "source": [
    "There will be no difference for LBXCRP since there are no missing or NaN values in this feature"
   ]
  },
  {
   "cell_type": "code",
   "execution_count": null,
   "metadata": {},
   "outputs": [],
   "source": [
    "fix, axes = plt.subplots(1,2)\n",
    "plt.suptitle(\"Comparison in LBXCRP with NaN values from df_merged['Age'] preserved (Red) or removed (Blue)\", fontsize=14)\n",
    "ax1 = sns.boxplot(tempnotna_age['LBXCRP'], showfliers=False, width=0.75, orient='v', ax=axes[0], color='r').set_title(\"With NaN\")\n",
    "ax2 = sns.boxplot(tempna_age['LBXCRP'], showfliers=False, width=0.75, orient='v', ax=axes[1]).set_title(\"Without NaN\")\n",
    "plt.subplots_adjust(top=.8)"
   ]
  },
  {
   "cell_type": "markdown",
   "metadata": {},
   "source": [
    "## Boxplot for 'Systolic BP':"
   ]
  },
  {
   "cell_type": "code",
   "execution_count": null,
   "metadata": {},
   "outputs": [],
   "source": [
    "tempna_SBP = df_merged[df_merged['Systolic BP'].apply(lambda x: x != x)]\n",
    "tempnotna_SBP = df_merged[df_merged['Systolic BP'].apply(lambda x: x == x)]\n",
    "\n",
    "fix, axes = plt.subplots(1,2)\n",
    "plt.suptitle(\"Comparison in LBXCRP with NaN values from df_merged['Systolic BP'] preserved (Red) or removed (Blue)\", fontsize=14)\n",
    "ax1 = sns.boxplot(tempnotna_SBP['LBXCRP'], showfliers=False, width=0.75, orient='v', ax=axes[0], color='r', showmeans=True, meanprops={\"marker\":\"o\",\n",
    "                       \"markerfacecolor\":\"white\", \n",
    "                       \"markeredgecolor\":\"black\",\n",
    "                      \"markersize\":\"10\"}).set_title(\"With NaN\")\n",
    "ax2 = sns.boxplot(tempna_SBP['LBXCRP'], showfliers=False, width=0.75, orient='v', ax=axes[1], showmeans=True, meanprops={\"marker\":\"o\",\n",
    "                       \"markerfacecolor\":\"white\", \n",
    "                       \"markeredgecolor\":\"black\",\n",
    "                      \"markersize\":\"10\"}).set_title(\"Without NaN\")\n",
    "plt.subplots_adjust(top=.8)"
   ]
  },
  {
   "cell_type": "markdown",
   "metadata": {},
   "source": [
    "## Boxplot for 'Diastolic BP':"
   ]
  },
  {
   "cell_type": "code",
   "execution_count": null,
   "metadata": {},
   "outputs": [],
   "source": [
    "tempna_DBP = df_merged[df_merged['Diastolic BP'].apply(lambda x: x != x)]\n",
    "tempnotna_DBP = df_merged[df_merged['Diastolic BP'].apply(lambda x: x == x)]\n",
    "\n",
    "fix, axes = plt.subplots(1,2)\n",
    "plt.suptitle(\"Comparison in LBXCRP with NaN values from df_merged['Diastolic BP'] preserved (Red) or removed (Blue)\", fontsize=14)\n",
    "ax1 = sns.boxplot(tempnotna_DBP['LBXCRP'], showfliers=False, width=0.75, orient='v', ax=axes[0], color='r', showmeans=True, meanprops={\"marker\":\"o\",\n",
    "                       \"markerfacecolor\":\"white\", \n",
    "                       \"markeredgecolor\":\"black\",\n",
    "                      \"markersize\":\"10\"}).set_title(\"With NaN\")\n",
    "ax2 = sns.boxplot(tempna_DBP['LBXCRP'], showfliers=False, width=0.75, orient='v', ax=axes[1], showmeans=True, meanprops={\"marker\":\"o\",\n",
    "                       \"markerfacecolor\":\"white\", \n",
    "                       \"markeredgecolor\":\"black\",\n",
    "                      \"markersize\":\"10\"}).set_title(\"Without NaN\")\n",
    "plt.subplots_adjust(top=.8)"
   ]
  },
  {
   "cell_type": "markdown",
   "metadata": {},
   "source": [
    "## Boxplot for 'Resting HR':"
   ]
  },
  {
   "cell_type": "code",
   "execution_count": null,
   "metadata": {},
   "outputs": [],
   "source": [
    "tempna_RHR = df_merged[df_merged['Resting HR'].apply(lambda x: x != x)]\n",
    "tempnotna_RHR = df_merged[df_merged['Resting HR'].apply(lambda x: x == x)]\n",
    "\n",
    "fix, axes = plt.subplots(1,2)\n",
    "plt.suptitle(\"Comparison in LBXCRP with NaN values from df_merged['Resting HR'] preserved (Red) or removed (Blue)\", fontsize=14)\n",
    "ax1 = sns.boxplot(tempnotna_RHR['LBXCRP'], showfliers=False, width=0.75, orient='v', ax=axes[0], color='r', showmeans=True, meanprops={\"marker\":\"o\",\n",
    "                       \"markerfacecolor\":\"white\", \n",
    "                       \"markeredgecolor\":\"black\",\n",
    "                      \"markersize\":\"10\"}).set_title(\"With NaN\")\n",
    "ax2 = sns.boxplot(tempna_RHR['LBXCRP'], showfliers=False, width=0.75, orient='v', ax=axes[1], showmeans=True, meanprops={\"marker\":\"o\",\n",
    "                       \"markerfacecolor\":\"white\", \n",
    "                       \"markeredgecolor\":\"black\",\n",
    "                      \"markersize\":\"10\"}).set_title(\"Without NaN\")\n",
    "plt.subplots_adjust(top=.8)"
   ]
  },
  {
   "cell_type": "markdown",
   "metadata": {},
   "source": [
    "## Boxplot for 'Weight\":"
   ]
  },
  {
   "cell_type": "code",
   "execution_count": null,
   "metadata": {},
   "outputs": [],
   "source": [
    "tempna_weight = df_merged[df_merged['Weight'].apply(lambda x: x != x)]\n",
    "tempnotna_weight = df_merged[df_merged['Weight'].apply(lambda x: x == x)]\n",
    "\n",
    "\n",
    "fix, axes = plt.subplots(1,2)\n",
    "plt.suptitle(\"Comparison in LBXCRP with NaN values from df_merged['Weight'] preserved (Red) or removed (Blue)\", fontsize=14)\n",
    "ax1 = sns.boxplot(tempnotna_weight['LBXCRP'], showfliers=False, width=0.75, orient='v', ax=axes[0], color='r', showmeans=True, meanprops={\"marker\":\"o\",\n",
    "                       \"markerfacecolor\":\"white\", \n",
    "                       \"markeredgecolor\":\"black\",\n",
    "                      \"markersize\":\"10\"}).set_title(\"With NaN\")\n",
    "ax2 = sns.boxplot(tempna_weight['LBXCRP'], showfliers=False, width=0.75, orient='v', ax=axes[1], showmeans=True, meanprops={\"marker\":\"o\",\n",
    "                       \"markerfacecolor\":\"white\", \n",
    "                       \"markeredgecolor\":\"black\",\n",
    "                      \"markersize\":\"10\"}).set_title(\"Without NaN\")\n",
    "plt.subplots_adjust(top=.8)"
   ]
  },
  {
   "cell_type": "markdown",
   "metadata": {},
   "source": [
    "## Boxplot for 'Height\":"
   ]
  },
  {
   "cell_type": "code",
   "execution_count": null,
   "metadata": {},
   "outputs": [],
   "source": [
    "tempna_height = df_merged[df_merged['Height'].apply(lambda x: x != x)]\n",
    "tempnotna_height = df_merged[df_merged['Height'].apply(lambda x: x == x)]\n",
    "\n",
    "\n",
    "fix, axes = plt.subplots(1,2)\n",
    "plt.suptitle(\"Comparison in LBXCRP with NaN values from df_merged['Height'] preserved (Red) or removed (Blue)\", fontsize=14)\n",
    "ax1 = sns.boxplot(tempnotna_height['LBXCRP'], showfliers=False, width=0.75, orient='v', ax=axes[0], color='r',showmeans=True, meanprops={\"marker\":\"o\",\n",
    "                       \"markerfacecolor\":\"white\", \n",
    "                       \"markeredgecolor\":\"black\",\n",
    "                      \"markersize\":\"10\"}).set_title(\"With NaN\")\n",
    "ax2 = sns.boxplot(tempna_height['LBXCRP'], showfliers=False, width=0.75, orient='v', ax=axes[1], showmeans=True, meanprops={\"marker\":\"o\",\n",
    "                       \"markerfacecolor\":\"white\", \n",
    "                       \"markeredgecolor\":\"black\",\n",
    "                      \"markersize\":\"10\"}).set_title(\"Without NaN\")\n",
    "plt.subplots_adjust(top=.8)"
   ]
  },
  {
   "cell_type": "markdown",
   "metadata": {},
   "source": [
    "## Boxplot for 'BMI':"
   ]
  },
  {
   "cell_type": "code",
   "execution_count": null,
   "metadata": {},
   "outputs": [],
   "source": [
    "tempna_bmi = df_merged[df_merged['BMI'].apply(lambda x: x != x)]\n",
    "tempnotna_bmi = df_merged[df_merged['BMI'].apply(lambda x: x == x)]\n",
    "\n",
    "\n",
    "fix, axes = plt.subplots(1,2)\n",
    "plt.suptitle(\"Comparison in LBXCRP with NaN values from df_merged['BMI'] preserved (Red) or removed (Blue)\", fontsize=14)\n",
    "ax1 = sns.boxplot(tempnotna_bmi['LBXCRP'], showfliers=False, width=0.75, orient='v', ax=axes[0], color='r', showmeans=True, meanprops={\"marker\":\"o\",\n",
    "                       \"markerfacecolor\":\"white\", \n",
    "                       \"markeredgecolor\":\"black\",\n",
    "                      \"markersize\":\"10\"}).set_title(\"With NaN\")\n",
    "ax2 = sns.boxplot(tempna_bmi['LBXCRP'], showfliers=False, width=0.75, orient='v', ax=axes[1], showmeans=True, meanprops={\"marker\":\"o\",\n",
    "                       \"markerfacecolor\":\"white\", \n",
    "                       \"markeredgecolor\":\"black\",\n",
    "                      \"markersize\":\"10\"}).set_title(\"Without NaN\")\n",
    "plt.subplots_adjust(top=.8)"
   ]
  },
  {
   "cell_type": "markdown",
   "metadata": {},
   "source": [
    "## Boxplot for 'Waist Circumference':"
   ]
  },
  {
   "cell_type": "code",
   "execution_count": null,
   "metadata": {},
   "outputs": [],
   "source": [
    "tempna_waist = df_merged[df_merged['Waist Circumference'].apply(lambda x: x != x)]\n",
    "tempnotna_waist = df_merged[df_merged['Waist Circumference'].apply(lambda x: x == x)]\n",
    "\n",
    "\n",
    "fix, axes = plt.subplots(1,2)\n",
    "plt.suptitle(\"Comparison in LBXCRP with NaN values from df_merged['Waist Circumference'] preserved (Red) or removed (Blue)\", fontsize=14)\n",
    "ax1 = sns.boxplot(tempnotna_waist['LBXCRP'], showfliers=False, width=0.75, orient='v', ax=axes[0], color='r').set_title(\"With NaN\")\n",
    "ax2 = sns.boxplot(tempna_waist['LBXCRP'], showfliers=False, width=0.75, orient='v', ax=axes[1]).set_title(\"Without NaN\")\n",
    "plt.subplots_adjust(top=.8)"
   ]
  },
  {
   "cell_type": "markdown",
   "metadata": {},
   "source": [
    "## Boxplot for 'Tricep Skinfold':"
   ]
  },
  {
   "cell_type": "code",
   "execution_count": null,
   "metadata": {},
   "outputs": [],
   "source": [
    "tempna_tricep = df_merged[df_merged['Tricep Skinfold'].apply(lambda x: x != x)]\n",
    "tempnotna_tricep = df_merged[df_merged['Tricep Skinfold'].apply(lambda x: x == x)]\n",
    "\n",
    "\n",
    "fix, axes = plt.subplots(1,2)\n",
    "plt.suptitle(\"Comparison in LBXCRP with NaN values from df_merged['Tricep Skinfold'] preserved (Red) or removed (Blue)\", fontsize=14)\n",
    "ax1 = sns.boxplot(tempnotna_tricep['LBXCRP'], showfliers=False, width=0.75, orient='v', ax=axes[0], color='r').set_title(\"With NaN\")\n",
    "ax2 = sns.boxplot(tempna_tricep['LBXCRP'], showfliers=False, width=0.75, orient='v', ax=axes[1]).set_title(\"Without NaN\")\n",
    "plt.subplots_adjust(top=.8)"
   ]
  },
  {
   "cell_type": "markdown",
   "metadata": {},
   "source": [
    "## Boxplot for 'Subscap Skinfold':"
   ]
  },
  {
   "cell_type": "code",
   "execution_count": null,
   "metadata": {},
   "outputs": [],
   "source": [
    "tempna_subscap = df_merged[df_merged['Subscap Skinfold'].apply(lambda x: x != x)]\n",
    "tempnotna_subscap = df_merged[df_merged['Subscap Skinfold'].apply(lambda x: x == x)]\n",
    "\n",
    "\n",
    "fix, axes = plt.subplots(1,2)\n",
    "plt.suptitle(\"Comparison in LBXCRP with NaN values from df_merged['Subscap Skinfold'] preserved (Red) or removed (Blue)\", fontsize=14)\n",
    "ax1 = sns.boxplot(tempnotna_subscap['LBXCRP'], showfliers=False, width=0.75, orient='v', ax=axes[0], color='r').set_title(\"With NaN\")\n",
    "ax2 = sns.boxplot(tempna_subscap['LBXCRP'], showfliers=False, width=0.75, orient='v', ax=axes[1]).set_title(\"Without NaN\")\n",
    "plt.subplots_adjust(top=.8)"
   ]
  },
  {
   "cell_type": "code",
   "execution_count": null,
   "metadata": {},
   "outputs": [],
   "source": [
    "df_merged.columns"
   ]
  },
  {
   "cell_type": "code",
   "execution_count": null,
   "metadata": {},
   "outputs": [],
   "source": [
    "plt.hist(df_merged['LBXCRP'].apply(np.log))\n",
    "plt.show()"
   ]
  },
  {
   "cell_type": "code",
   "execution_count": null,
   "metadata": {},
   "outputs": [],
   "source": [
    "plt.hist(df_merged['Weight'])\n",
    "plt.show()"
   ]
  },
  {
   "cell_type": "markdown",
   "metadata": {},
   "source": [
    "Looks like we need to use LBXCRP values as a log."
   ]
  },
  {
   "cell_type": "code",
   "execution_count": null,
   "metadata": {},
   "outputs": [],
   "source": [
    "sns.scatterplot(df_merged['Weight'], df_merged['LBXCRP'].apply(np.log))\n"
   ]
  },
  {
   "cell_type": "code",
   "execution_count": 81,
   "metadata": {},
   "outputs": [],
   "source": [
    "path_data = '/Users/hf/Desktop/Capstone1/data/'\n",
    "df_merged.to_csv(path_data+'raw_data.csv')"
   ]
  },
  {
   "cell_type": "code",
   "execution_count": null,
   "metadata": {},
   "outputs": [],
   "source": []
  }
 ],
 "metadata": {
  "kernelspec": {
   "display_name": "Python 3",
   "language": "python",
   "name": "python3"
  },
  "language_info": {
   "codemirror_mode": {
    "name": "ipython",
    "version": 3
   },
   "file_extension": ".py",
   "mimetype": "text/x-python",
   "name": "python",
   "nbconvert_exporter": "python",
   "pygments_lexer": "ipython3",
   "version": "3.7.6"
  }
 },
 "nbformat": 4,
 "nbformat_minor": 4
}
